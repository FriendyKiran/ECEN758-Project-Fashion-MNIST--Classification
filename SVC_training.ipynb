{
 "cells": [
  {
   "cell_type": "markdown",
   "metadata": {},
   "source": [
    "## Fashion MNIST Classification project"
   ]
  },
  {
   "cell_type": "code",
   "execution_count": 1,
   "metadata": {
    "tags": []
   },
   "outputs": [
    {
     "name": "stdout",
     "output_type": "stream",
     "text": [
      "tensor([1.], device='mps:0')\n"
     ]
    }
   ],
   "source": [
    "#Checking the gpu availability in mac for using torch\n",
    "import torch\n",
    "if torch.backends.mps.is_available():\n",
    "    mps_device = torch.device(\"mps\")\n",
    "    x = torch.ones(1, device=mps_device)\n",
    "    print (x)\n",
    "else:\n",
    "    print (\"MPS device not found.\")"
   ]
  },
  {
   "cell_type": "code",
   "execution_count": 2,
   "metadata": {
    "tags": []
   },
   "outputs": [],
   "source": [
    "#importing dependencies \n",
    "import numpy as np\n",
    "import matplotlib.pyplot as plt\n",
    "import pandas as pd\n",
    "import seaborn as sns\n",
    "\n",
    "#from prettytable import PrettyTable\n",
    "from sklearn.datasets import fetch_openml\n",
    "from sklearn.model_selection import train_test_split\n",
    "from sklearn.preprocessing import StandardScaler\n",
    "\n",
    "from sklearn.decomposition import PCA\n",
    "from sklearn.manifold import TSNE\n",
    "from sklearn import decomposition\n",
    "from sklearn.model_selection import GridSearchCV, RandomizedSearchCV\n",
    "\n",
    "from sklearn.neighbors import KNeighborsClassifier\n",
    "from sklearn.linear_model import LogisticRegression\n",
    "from sklearn.metrics import accuracy_score, classification_report\n",
    "\n",
    "from sklearn.svm import SVC\n",
    "from scipy.stats import uniform, randint\n",
    "\n",
    "\n",
    "sns.set_style('darkgrid')\n",
    "import warnings\n",
    "warnings.filterwarnings(\"ignore\")\n"
   ]
  },
  {
   "cell_type": "markdown",
   "metadata": {},
   "source": [
    "## Loading Fashion MNIST Dataset"
   ]
  },
  {
   "cell_type": "code",
   "execution_count": 3,
   "metadata": {
    "tags": []
   },
   "outputs": [
    {
     "data": {
      "text/html": [
       "<div>\n",
       "<style scoped>\n",
       "    .dataframe tbody tr th:only-of-type {\n",
       "        vertical-align: middle;\n",
       "    }\n",
       "\n",
       "    .dataframe tbody tr th {\n",
       "        vertical-align: top;\n",
       "    }\n",
       "\n",
       "    .dataframe thead th {\n",
       "        text-align: right;\n",
       "    }\n",
       "</style>\n",
       "<table border=\"1\" class=\"dataframe\">\n",
       "  <thead>\n",
       "    <tr style=\"text-align: right;\">\n",
       "      <th></th>\n",
       "      <th>pixel1</th>\n",
       "      <th>pixel2</th>\n",
       "      <th>pixel3</th>\n",
       "      <th>pixel4</th>\n",
       "      <th>pixel5</th>\n",
       "      <th>pixel6</th>\n",
       "      <th>pixel7</th>\n",
       "      <th>pixel8</th>\n",
       "      <th>pixel9</th>\n",
       "      <th>pixel10</th>\n",
       "      <th>...</th>\n",
       "      <th>pixel776</th>\n",
       "      <th>pixel777</th>\n",
       "      <th>pixel778</th>\n",
       "      <th>pixel779</th>\n",
       "      <th>pixel780</th>\n",
       "      <th>pixel781</th>\n",
       "      <th>pixel782</th>\n",
       "      <th>pixel783</th>\n",
       "      <th>pixel784</th>\n",
       "      <th>target</th>\n",
       "    </tr>\n",
       "  </thead>\n",
       "  <tbody>\n",
       "    <tr>\n",
       "      <th>0</th>\n",
       "      <td>0.0</td>\n",
       "      <td>0.0</td>\n",
       "      <td>0.0</td>\n",
       "      <td>0.0</td>\n",
       "      <td>0.0</td>\n",
       "      <td>0.0</td>\n",
       "      <td>0.0</td>\n",
       "      <td>0.0</td>\n",
       "      <td>0.0</td>\n",
       "      <td>0.0</td>\n",
       "      <td>...</td>\n",
       "      <td>0.0</td>\n",
       "      <td>0.0</td>\n",
       "      <td>0.0</td>\n",
       "      <td>0.0</td>\n",
       "      <td>0.0</td>\n",
       "      <td>0.0</td>\n",
       "      <td>0.0</td>\n",
       "      <td>0.0</td>\n",
       "      <td>0.0</td>\n",
       "      <td>9</td>\n",
       "    </tr>\n",
       "    <tr>\n",
       "      <th>1</th>\n",
       "      <td>0.0</td>\n",
       "      <td>0.0</td>\n",
       "      <td>0.0</td>\n",
       "      <td>0.0</td>\n",
       "      <td>0.0</td>\n",
       "      <td>1.0</td>\n",
       "      <td>0.0</td>\n",
       "      <td>0.0</td>\n",
       "      <td>0.0</td>\n",
       "      <td>0.0</td>\n",
       "      <td>...</td>\n",
       "      <td>114.0</td>\n",
       "      <td>130.0</td>\n",
       "      <td>76.0</td>\n",
       "      <td>0.0</td>\n",
       "      <td>0.0</td>\n",
       "      <td>0.0</td>\n",
       "      <td>0.0</td>\n",
       "      <td>0.0</td>\n",
       "      <td>0.0</td>\n",
       "      <td>0</td>\n",
       "    </tr>\n",
       "    <tr>\n",
       "      <th>2</th>\n",
       "      <td>0.0</td>\n",
       "      <td>0.0</td>\n",
       "      <td>0.0</td>\n",
       "      <td>0.0</td>\n",
       "      <td>0.0</td>\n",
       "      <td>0.0</td>\n",
       "      <td>0.0</td>\n",
       "      <td>0.0</td>\n",
       "      <td>0.0</td>\n",
       "      <td>22.0</td>\n",
       "      <td>...</td>\n",
       "      <td>0.0</td>\n",
       "      <td>1.0</td>\n",
       "      <td>0.0</td>\n",
       "      <td>0.0</td>\n",
       "      <td>0.0</td>\n",
       "      <td>0.0</td>\n",
       "      <td>0.0</td>\n",
       "      <td>0.0</td>\n",
       "      <td>0.0</td>\n",
       "      <td>0</td>\n",
       "    </tr>\n",
       "    <tr>\n",
       "      <th>3</th>\n",
       "      <td>0.0</td>\n",
       "      <td>0.0</td>\n",
       "      <td>0.0</td>\n",
       "      <td>0.0</td>\n",
       "      <td>0.0</td>\n",
       "      <td>0.0</td>\n",
       "      <td>0.0</td>\n",
       "      <td>0.0</td>\n",
       "      <td>33.0</td>\n",
       "      <td>96.0</td>\n",
       "      <td>...</td>\n",
       "      <td>0.0</td>\n",
       "      <td>0.0</td>\n",
       "      <td>0.0</td>\n",
       "      <td>0.0</td>\n",
       "      <td>0.0</td>\n",
       "      <td>0.0</td>\n",
       "      <td>0.0</td>\n",
       "      <td>0.0</td>\n",
       "      <td>0.0</td>\n",
       "      <td>3</td>\n",
       "    </tr>\n",
       "    <tr>\n",
       "      <th>4</th>\n",
       "      <td>0.0</td>\n",
       "      <td>0.0</td>\n",
       "      <td>0.0</td>\n",
       "      <td>0.0</td>\n",
       "      <td>0.0</td>\n",
       "      <td>0.0</td>\n",
       "      <td>0.0</td>\n",
       "      <td>0.0</td>\n",
       "      <td>0.0</td>\n",
       "      <td>0.0</td>\n",
       "      <td>...</td>\n",
       "      <td>0.0</td>\n",
       "      <td>0.0</td>\n",
       "      <td>0.0</td>\n",
       "      <td>0.0</td>\n",
       "      <td>0.0</td>\n",
       "      <td>0.0</td>\n",
       "      <td>0.0</td>\n",
       "      <td>0.0</td>\n",
       "      <td>0.0</td>\n",
       "      <td>0</td>\n",
       "    </tr>\n",
       "    <tr>\n",
       "      <th>5</th>\n",
       "      <td>0.0</td>\n",
       "      <td>0.0</td>\n",
       "      <td>0.0</td>\n",
       "      <td>0.0</td>\n",
       "      <td>1.0</td>\n",
       "      <td>0.0</td>\n",
       "      <td>0.0</td>\n",
       "      <td>0.0</td>\n",
       "      <td>0.0</td>\n",
       "      <td>22.0</td>\n",
       "      <td>...</td>\n",
       "      <td>0.0</td>\n",
       "      <td>0.0</td>\n",
       "      <td>0.0</td>\n",
       "      <td>133.0</td>\n",
       "      <td>167.0</td>\n",
       "      <td>73.0</td>\n",
       "      <td>0.0</td>\n",
       "      <td>0.0</td>\n",
       "      <td>0.0</td>\n",
       "      <td>2</td>\n",
       "    </tr>\n",
       "    <tr>\n",
       "      <th>6</th>\n",
       "      <td>0.0</td>\n",
       "      <td>0.0</td>\n",
       "      <td>0.0</td>\n",
       "      <td>0.0</td>\n",
       "      <td>0.0</td>\n",
       "      <td>0.0</td>\n",
       "      <td>0.0</td>\n",
       "      <td>0.0</td>\n",
       "      <td>0.0</td>\n",
       "      <td>0.0</td>\n",
       "      <td>...</td>\n",
       "      <td>0.0</td>\n",
       "      <td>0.0</td>\n",
       "      <td>0.0</td>\n",
       "      <td>0.0</td>\n",
       "      <td>0.0</td>\n",
       "      <td>0.0</td>\n",
       "      <td>0.0</td>\n",
       "      <td>0.0</td>\n",
       "      <td>0.0</td>\n",
       "      <td>7</td>\n",
       "    </tr>\n",
       "    <tr>\n",
       "      <th>7</th>\n",
       "      <td>0.0</td>\n",
       "      <td>0.0</td>\n",
       "      <td>0.0</td>\n",
       "      <td>0.0</td>\n",
       "      <td>0.0</td>\n",
       "      <td>1.0</td>\n",
       "      <td>1.0</td>\n",
       "      <td>0.0</td>\n",
       "      <td>0.0</td>\n",
       "      <td>0.0</td>\n",
       "      <td>...</td>\n",
       "      <td>0.0</td>\n",
       "      <td>3.0</td>\n",
       "      <td>0.0</td>\n",
       "      <td>82.0</td>\n",
       "      <td>237.0</td>\n",
       "      <td>231.0</td>\n",
       "      <td>70.0</td>\n",
       "      <td>0.0</td>\n",
       "      <td>0.0</td>\n",
       "      <td>2</td>\n",
       "    </tr>\n",
       "    <tr>\n",
       "      <th>8</th>\n",
       "      <td>0.0</td>\n",
       "      <td>0.0</td>\n",
       "      <td>0.0</td>\n",
       "      <td>0.0</td>\n",
       "      <td>0.0</td>\n",
       "      <td>0.0</td>\n",
       "      <td>0.0</td>\n",
       "      <td>0.0</td>\n",
       "      <td>0.0</td>\n",
       "      <td>0.0</td>\n",
       "      <td>...</td>\n",
       "      <td>0.0</td>\n",
       "      <td>0.0</td>\n",
       "      <td>0.0</td>\n",
       "      <td>0.0</td>\n",
       "      <td>0.0</td>\n",
       "      <td>0.0</td>\n",
       "      <td>0.0</td>\n",
       "      <td>0.0</td>\n",
       "      <td>0.0</td>\n",
       "      <td>5</td>\n",
       "    </tr>\n",
       "    <tr>\n",
       "      <th>9</th>\n",
       "      <td>0.0</td>\n",
       "      <td>0.0</td>\n",
       "      <td>0.0</td>\n",
       "      <td>0.0</td>\n",
       "      <td>0.0</td>\n",
       "      <td>0.0</td>\n",
       "      <td>0.0</td>\n",
       "      <td>0.0</td>\n",
       "      <td>0.0</td>\n",
       "      <td>0.0</td>\n",
       "      <td>...</td>\n",
       "      <td>0.0</td>\n",
       "      <td>0.0</td>\n",
       "      <td>0.0</td>\n",
       "      <td>0.0</td>\n",
       "      <td>0.0</td>\n",
       "      <td>0.0</td>\n",
       "      <td>0.0</td>\n",
       "      <td>0.0</td>\n",
       "      <td>0.0</td>\n",
       "      <td>5</td>\n",
       "    </tr>\n",
       "  </tbody>\n",
       "</table>\n",
       "<p>10 rows × 785 columns</p>\n",
       "</div>"
      ],
      "text/plain": [
       "   pixel1  pixel2  pixel3  pixel4  pixel5  pixel6  pixel7  pixel8  pixel9  \\\n",
       "0     0.0     0.0     0.0     0.0     0.0     0.0     0.0     0.0     0.0   \n",
       "1     0.0     0.0     0.0     0.0     0.0     1.0     0.0     0.0     0.0   \n",
       "2     0.0     0.0     0.0     0.0     0.0     0.0     0.0     0.0     0.0   \n",
       "3     0.0     0.0     0.0     0.0     0.0     0.0     0.0     0.0    33.0   \n",
       "4     0.0     0.0     0.0     0.0     0.0     0.0     0.0     0.0     0.0   \n",
       "5     0.0     0.0     0.0     0.0     1.0     0.0     0.0     0.0     0.0   \n",
       "6     0.0     0.0     0.0     0.0     0.0     0.0     0.0     0.0     0.0   \n",
       "7     0.0     0.0     0.0     0.0     0.0     1.0     1.0     0.0     0.0   \n",
       "8     0.0     0.0     0.0     0.0     0.0     0.0     0.0     0.0     0.0   \n",
       "9     0.0     0.0     0.0     0.0     0.0     0.0     0.0     0.0     0.0   \n",
       "\n",
       "   pixel10  ...  pixel776  pixel777  pixel778  pixel779  pixel780  pixel781  \\\n",
       "0      0.0  ...       0.0       0.0       0.0       0.0       0.0       0.0   \n",
       "1      0.0  ...     114.0     130.0      76.0       0.0       0.0       0.0   \n",
       "2     22.0  ...       0.0       1.0       0.0       0.0       0.0       0.0   \n",
       "3     96.0  ...       0.0       0.0       0.0       0.0       0.0       0.0   \n",
       "4      0.0  ...       0.0       0.0       0.0       0.0       0.0       0.0   \n",
       "5     22.0  ...       0.0       0.0       0.0     133.0     167.0      73.0   \n",
       "6      0.0  ...       0.0       0.0       0.0       0.0       0.0       0.0   \n",
       "7      0.0  ...       0.0       3.0       0.0      82.0     237.0     231.0   \n",
       "8      0.0  ...       0.0       0.0       0.0       0.0       0.0       0.0   \n",
       "9      0.0  ...       0.0       0.0       0.0       0.0       0.0       0.0   \n",
       "\n",
       "   pixel782  pixel783  pixel784  target  \n",
       "0       0.0       0.0       0.0       9  \n",
       "1       0.0       0.0       0.0       0  \n",
       "2       0.0       0.0       0.0       0  \n",
       "3       0.0       0.0       0.0       3  \n",
       "4       0.0       0.0       0.0       0  \n",
       "5       0.0       0.0       0.0       2  \n",
       "6       0.0       0.0       0.0       7  \n",
       "7      70.0       0.0       0.0       2  \n",
       "8       0.0       0.0       0.0       5  \n",
       "9       0.0       0.0       0.0       5  \n",
       "\n",
       "[10 rows x 785 columns]"
      ]
     },
     "execution_count": 3,
     "metadata": {},
     "output_type": "execute_result"
    }
   ],
   "source": [
    "#Load Fashion-Mnist Dataset\n",
    "fashion_mnist = fetch_openml(name=\"Fashion-MNIST\", cache = True)\n",
    "fashion_mnist_df = pd.DataFrame(fashion_mnist.data, columns=fashion_mnist.feature_names)\n",
    "fashion_mnist_df['target'] = fashion_mnist['target'].astype(int)\n",
    "fashion_mnist_df.head(10)"
   ]
  },
  {
   "cell_type": "code",
   "execution_count": 4,
   "metadata": {
    "tags": []
   },
   "outputs": [
    {
     "data": {
      "text/plain": [
       "(70000, 785)"
      ]
     },
     "execution_count": 4,
     "metadata": {},
     "output_type": "execute_result"
    }
   ],
   "source": [
    "fashion_mnist_df.shape"
   ]
  },
  {
   "cell_type": "code",
   "execution_count": 5,
   "metadata": {
    "tags": []
   },
   "outputs": [
    {
     "data": {
      "text/plain": [
       "pixel1      0\n",
       "pixel2      0\n",
       "pixel3      0\n",
       "pixel4      0\n",
       "pixel5      0\n",
       "           ..\n",
       "pixel781    0\n",
       "pixel782    0\n",
       "pixel783    0\n",
       "pixel784    0\n",
       "target      0\n",
       "Length: 785, dtype: int64"
      ]
     },
     "execution_count": 5,
     "metadata": {},
     "output_type": "execute_result"
    }
   ],
   "source": [
    "#Checking missing values in the dataset\n",
    "fashion_mnist_df.isnull().sum()"
   ]
  },
  {
   "cell_type": "markdown",
   "metadata": {},
   "source": [
    "We see that there are no missing values in the dataset."
   ]
  },
  {
   "cell_type": "code",
   "execution_count": 6,
   "metadata": {
    "tags": []
   },
   "outputs": [
    {
     "data": {
      "text/html": [
       "<div>\n",
       "<style scoped>\n",
       "    .dataframe tbody tr th:only-of-type {\n",
       "        vertical-align: middle;\n",
       "    }\n",
       "\n",
       "    .dataframe tbody tr th {\n",
       "        vertical-align: top;\n",
       "    }\n",
       "\n",
       "    .dataframe thead th {\n",
       "        text-align: right;\n",
       "    }\n",
       "</style>\n",
       "<table border=\"1\" class=\"dataframe\">\n",
       "  <thead>\n",
       "    <tr style=\"text-align: right;\">\n",
       "      <th></th>\n",
       "      <th>pixel1</th>\n",
       "      <th>pixel2</th>\n",
       "      <th>pixel3</th>\n",
       "      <th>pixel4</th>\n",
       "      <th>pixel5</th>\n",
       "      <th>pixel6</th>\n",
       "      <th>pixel7</th>\n",
       "      <th>pixel8</th>\n",
       "      <th>pixel9</th>\n",
       "      <th>pixel10</th>\n",
       "      <th>...</th>\n",
       "      <th>pixel776</th>\n",
       "      <th>pixel777</th>\n",
       "      <th>pixel778</th>\n",
       "      <th>pixel779</th>\n",
       "      <th>pixel780</th>\n",
       "      <th>pixel781</th>\n",
       "      <th>pixel782</th>\n",
       "      <th>pixel783</th>\n",
       "      <th>pixel784</th>\n",
       "      <th>target</th>\n",
       "    </tr>\n",
       "  </thead>\n",
       "  <tbody>\n",
       "    <tr>\n",
       "      <th>count</th>\n",
       "      <td>70000.000000</td>\n",
       "      <td>70000.000000</td>\n",
       "      <td>70000.000000</td>\n",
       "      <td>70000.000000</td>\n",
       "      <td>70000.000000</td>\n",
       "      <td>70000.000000</td>\n",
       "      <td>70000.000000</td>\n",
       "      <td>70000.000000</td>\n",
       "      <td>70000.000000</td>\n",
       "      <td>70000.00000</td>\n",
       "      <td>...</td>\n",
       "      <td>70000.000000</td>\n",
       "      <td>70000.000000</td>\n",
       "      <td>70000.000000</td>\n",
       "      <td>70000.000000</td>\n",
       "      <td>70000.000000</td>\n",
       "      <td>70000.000000</td>\n",
       "      <td>70000.00000</td>\n",
       "      <td>70000.000000</td>\n",
       "      <td>70000.000000</td>\n",
       "      <td>70000.000000</td>\n",
       "    </tr>\n",
       "    <tr>\n",
       "      <th>mean</th>\n",
       "      <td>0.000771</td>\n",
       "      <td>0.006414</td>\n",
       "      <td>0.034486</td>\n",
       "      <td>0.098886</td>\n",
       "      <td>0.247843</td>\n",
       "      <td>0.408714</td>\n",
       "      <td>0.802900</td>\n",
       "      <td>2.204386</td>\n",
       "      <td>5.634900</td>\n",
       "      <td>14.41000</td>\n",
       "      <td>...</td>\n",
       "      <td>23.288643</td>\n",
       "      <td>16.611600</td>\n",
       "      <td>17.823371</td>\n",
       "      <td>22.887986</td>\n",
       "      <td>17.968129</td>\n",
       "      <td>8.524043</td>\n",
       "      <td>2.75140</td>\n",
       "      <td>0.836529</td>\n",
       "      <td>0.072914</td>\n",
       "      <td>4.500000</td>\n",
       "    </tr>\n",
       "    <tr>\n",
       "      <th>std</th>\n",
       "      <td>0.087339</td>\n",
       "      <td>0.296605</td>\n",
       "      <td>1.200882</td>\n",
       "      <td>2.458872</td>\n",
       "      <td>4.408110</td>\n",
       "      <td>5.842288</td>\n",
       "      <td>8.186472</td>\n",
       "      <td>14.117208</td>\n",
       "      <td>23.698865</td>\n",
       "      <td>38.18827</td>\n",
       "      <td>...</td>\n",
       "      <td>48.935288</td>\n",
       "      <td>42.075046</td>\n",
       "      <td>43.901606</td>\n",
       "      <td>51.853192</td>\n",
       "      <td>45.231601</td>\n",
       "      <td>29.527900</td>\n",
       "      <td>17.38577</td>\n",
       "      <td>9.258426</td>\n",
       "      <td>2.129924</td>\n",
       "      <td>2.872302</td>\n",
       "    </tr>\n",
       "    <tr>\n",
       "      <th>min</th>\n",
       "      <td>0.000000</td>\n",
       "      <td>0.000000</td>\n",
       "      <td>0.000000</td>\n",
       "      <td>0.000000</td>\n",
       "      <td>0.000000</td>\n",
       "      <td>0.000000</td>\n",
       "      <td>0.000000</td>\n",
       "      <td>0.000000</td>\n",
       "      <td>0.000000</td>\n",
       "      <td>0.00000</td>\n",
       "      <td>...</td>\n",
       "      <td>0.000000</td>\n",
       "      <td>0.000000</td>\n",
       "      <td>0.000000</td>\n",
       "      <td>0.000000</td>\n",
       "      <td>0.000000</td>\n",
       "      <td>0.000000</td>\n",
       "      <td>0.00000</td>\n",
       "      <td>0.000000</td>\n",
       "      <td>0.000000</td>\n",
       "      <td>0.000000</td>\n",
       "    </tr>\n",
       "    <tr>\n",
       "      <th>25%</th>\n",
       "      <td>0.000000</td>\n",
       "      <td>0.000000</td>\n",
       "      <td>0.000000</td>\n",
       "      <td>0.000000</td>\n",
       "      <td>0.000000</td>\n",
       "      <td>0.000000</td>\n",
       "      <td>0.000000</td>\n",
       "      <td>0.000000</td>\n",
       "      <td>0.000000</td>\n",
       "      <td>0.00000</td>\n",
       "      <td>...</td>\n",
       "      <td>0.000000</td>\n",
       "      <td>0.000000</td>\n",
       "      <td>0.000000</td>\n",
       "      <td>0.000000</td>\n",
       "      <td>0.000000</td>\n",
       "      <td>0.000000</td>\n",
       "      <td>0.00000</td>\n",
       "      <td>0.000000</td>\n",
       "      <td>0.000000</td>\n",
       "      <td>2.000000</td>\n",
       "    </tr>\n",
       "    <tr>\n",
       "      <th>50%</th>\n",
       "      <td>0.000000</td>\n",
       "      <td>0.000000</td>\n",
       "      <td>0.000000</td>\n",
       "      <td>0.000000</td>\n",
       "      <td>0.000000</td>\n",
       "      <td>0.000000</td>\n",
       "      <td>0.000000</td>\n",
       "      <td>0.000000</td>\n",
       "      <td>0.000000</td>\n",
       "      <td>0.00000</td>\n",
       "      <td>...</td>\n",
       "      <td>0.000000</td>\n",
       "      <td>0.000000</td>\n",
       "      <td>0.000000</td>\n",
       "      <td>0.000000</td>\n",
       "      <td>0.000000</td>\n",
       "      <td>0.000000</td>\n",
       "      <td>0.00000</td>\n",
       "      <td>0.000000</td>\n",
       "      <td>0.000000</td>\n",
       "      <td>4.500000</td>\n",
       "    </tr>\n",
       "    <tr>\n",
       "      <th>75%</th>\n",
       "      <td>0.000000</td>\n",
       "      <td>0.000000</td>\n",
       "      <td>0.000000</td>\n",
       "      <td>0.000000</td>\n",
       "      <td>0.000000</td>\n",
       "      <td>0.000000</td>\n",
       "      <td>0.000000</td>\n",
       "      <td>0.000000</td>\n",
       "      <td>0.000000</td>\n",
       "      <td>0.00000</td>\n",
       "      <td>...</td>\n",
       "      <td>8.000000</td>\n",
       "      <td>0.000000</td>\n",
       "      <td>0.000000</td>\n",
       "      <td>0.000000</td>\n",
       "      <td>0.000000</td>\n",
       "      <td>0.000000</td>\n",
       "      <td>0.00000</td>\n",
       "      <td>0.000000</td>\n",
       "      <td>0.000000</td>\n",
       "      <td>7.000000</td>\n",
       "    </tr>\n",
       "    <tr>\n",
       "      <th>max</th>\n",
       "      <td>16.000000</td>\n",
       "      <td>45.000000</td>\n",
       "      <td>218.000000</td>\n",
       "      <td>185.000000</td>\n",
       "      <td>227.000000</td>\n",
       "      <td>230.000000</td>\n",
       "      <td>224.000000</td>\n",
       "      <td>225.000000</td>\n",
       "      <td>254.000000</td>\n",
       "      <td>255.00000</td>\n",
       "      <td>...</td>\n",
       "      <td>255.000000</td>\n",
       "      <td>255.000000</td>\n",
       "      <td>255.000000</td>\n",
       "      <td>255.000000</td>\n",
       "      <td>255.000000</td>\n",
       "      <td>255.000000</td>\n",
       "      <td>255.00000</td>\n",
       "      <td>255.000000</td>\n",
       "      <td>170.000000</td>\n",
       "      <td>9.000000</td>\n",
       "    </tr>\n",
       "  </tbody>\n",
       "</table>\n",
       "<p>8 rows × 785 columns</p>\n",
       "</div>"
      ],
      "text/plain": [
       "             pixel1        pixel2        pixel3        pixel4        pixel5  \\\n",
       "count  70000.000000  70000.000000  70000.000000  70000.000000  70000.000000   \n",
       "mean       0.000771      0.006414      0.034486      0.098886      0.247843   \n",
       "std        0.087339      0.296605      1.200882      2.458872      4.408110   \n",
       "min        0.000000      0.000000      0.000000      0.000000      0.000000   \n",
       "25%        0.000000      0.000000      0.000000      0.000000      0.000000   \n",
       "50%        0.000000      0.000000      0.000000      0.000000      0.000000   \n",
       "75%        0.000000      0.000000      0.000000      0.000000      0.000000   \n",
       "max       16.000000     45.000000    218.000000    185.000000    227.000000   \n",
       "\n",
       "             pixel6        pixel7        pixel8        pixel9      pixel10  \\\n",
       "count  70000.000000  70000.000000  70000.000000  70000.000000  70000.00000   \n",
       "mean       0.408714      0.802900      2.204386      5.634900     14.41000   \n",
       "std        5.842288      8.186472     14.117208     23.698865     38.18827   \n",
       "min        0.000000      0.000000      0.000000      0.000000      0.00000   \n",
       "25%        0.000000      0.000000      0.000000      0.000000      0.00000   \n",
       "50%        0.000000      0.000000      0.000000      0.000000      0.00000   \n",
       "75%        0.000000      0.000000      0.000000      0.000000      0.00000   \n",
       "max      230.000000    224.000000    225.000000    254.000000    255.00000   \n",
       "\n",
       "       ...      pixel776      pixel777      pixel778      pixel779  \\\n",
       "count  ...  70000.000000  70000.000000  70000.000000  70000.000000   \n",
       "mean   ...     23.288643     16.611600     17.823371     22.887986   \n",
       "std    ...     48.935288     42.075046     43.901606     51.853192   \n",
       "min    ...      0.000000      0.000000      0.000000      0.000000   \n",
       "25%    ...      0.000000      0.000000      0.000000      0.000000   \n",
       "50%    ...      0.000000      0.000000      0.000000      0.000000   \n",
       "75%    ...      8.000000      0.000000      0.000000      0.000000   \n",
       "max    ...    255.000000    255.000000    255.000000    255.000000   \n",
       "\n",
       "           pixel780      pixel781     pixel782      pixel783      pixel784  \\\n",
       "count  70000.000000  70000.000000  70000.00000  70000.000000  70000.000000   \n",
       "mean      17.968129      8.524043      2.75140      0.836529      0.072914   \n",
       "std       45.231601     29.527900     17.38577      9.258426      2.129924   \n",
       "min        0.000000      0.000000      0.00000      0.000000      0.000000   \n",
       "25%        0.000000      0.000000      0.00000      0.000000      0.000000   \n",
       "50%        0.000000      0.000000      0.00000      0.000000      0.000000   \n",
       "75%        0.000000      0.000000      0.00000      0.000000      0.000000   \n",
       "max      255.000000    255.000000    255.00000    255.000000    170.000000   \n",
       "\n",
       "             target  \n",
       "count  70000.000000  \n",
       "mean       4.500000  \n",
       "std        2.872302  \n",
       "min        0.000000  \n",
       "25%        2.000000  \n",
       "50%        4.500000  \n",
       "75%        7.000000  \n",
       "max        9.000000  \n",
       "\n",
       "[8 rows x 785 columns]"
      ]
     },
     "execution_count": 6,
     "metadata": {},
     "output_type": "execute_result"
    }
   ],
   "source": [
    "fashion_mnist_df.describe()"
   ]
  },
  {
   "cell_type": "code",
   "execution_count": 7,
   "metadata": {
    "tags": []
   },
   "outputs": [],
   "source": [
    "X = fashion_mnist_df.drop('target', axis = 1).values #Get the data 28x28 total 784 features\n",
    "y = fashion_mnist_df['target'].values #Get the target values or class"
   ]
  },
  {
   "cell_type": "code",
   "execution_count": 8,
   "metadata": {
    "tags": []
   },
   "outputs": [
    {
     "data": {
      "text/plain": [
       "(70000, 784)"
      ]
     },
     "execution_count": 8,
     "metadata": {},
     "output_type": "execute_result"
    }
   ],
   "source": [
    "X.shape"
   ]
  },
  {
   "cell_type": "code",
   "execution_count": 9,
   "metadata": {
    "tags": []
   },
   "outputs": [
    {
     "data": {
      "text/plain": [
       "(70000,)"
      ]
     },
     "execution_count": 9,
     "metadata": {},
     "output_type": "execute_result"
    }
   ],
   "source": [
    "y.shape"
   ]
  },
  {
   "cell_type": "code",
   "execution_count": 10,
   "metadata": {
    "tags": []
   },
   "outputs": [],
   "source": [
    "class_mapping = {\n",
    "    0: 'T-shirt/top',\n",
    "    1: 'Trouser',\n",
    "    2: 'Pullover',\n",
    "    3: 'Dress',\n",
    "    4: 'Coat',\n",
    "    5: 'Sandal',\n",
    "    6: 'Shirt',\n",
    "    7: 'Sneaker',\n",
    "    8: 'Bag',\n",
    "    9: 'Ankle boot'\n",
    "}\n",
    "def true_label(x):\n",
    "    return class_mapping[x]"
   ]
  },
  {
   "cell_type": "code",
   "execution_count": 11,
   "metadata": {
    "tags": []
   },
   "outputs": [
    {
     "data": {
      "image/png": "[encoded data removed]",
      "text/plain": [
       "<Figure size 1000x500 with 8 Axes>"
      ]
     },
     "metadata": {},
     "output_type": "display_data"
    }
   ],
   "source": [
    "#Checking some data samples\n",
    "plt.figure(figsize=(10, 5))\n",
    "k = [0, 1, 2, 34, 500, 14578, 50000, 69999]\n",
    "\n",
    "for i, example in enumerate(k, 1):\n",
    "    plt.subplot(2, 4, i)\n",
    "    g = plt.imshow(X.reshape(-1, 28, 28, 1)[example][:, :, 0], cmap=plt.cm.binary)\n",
    "    plt.title('Class: ' + true_label(y[example]))\n",
    "    plt.axis('off')\n",
    "\n",
    "plt.tight_layout()\n",
    "plt.show()"
   ]
  },
  {
   "cell_type": "code",
   "execution_count": 12,
   "metadata": {
    "tags": []
   },
   "outputs": [
    {
     "name": "stdout",
     "output_type": "stream",
     "text": [
      "X_train shape: (60000, 784)\n",
      "X_test shape: (10000, 784)\n",
      "y_train shape: (60000,)\n",
      "y_test shape: (10000,)\n"
     ]
    }
   ],
   "source": [
    "#Splitting the data into training and testing set\n",
    "X_train, X_test, y_train, y_test = X[:60000], X[60000:], y[:60000], y[60000:]\n",
    "\n",
    "print(f'X_train shape: {X_train.shape}')\n",
    "print(f'X_test shape: {X_test.shape}')\n",
    "print(f'y_train shape: {y_train.shape}')\n",
    "print(f'y_test shape: {y_test.shape}')\n"
   ]
  },
  {
   "cell_type": "markdown",
   "metadata": {},
   "source": [
    "## Data Preprocessing"
   ]
  },
  {
   "cell_type": "code",
   "execution_count": 13,
   "metadata": {
    "tags": []
   },
   "outputs": [],
   "source": [
    "#Coverting the scale of pixels from 0-1 \n",
    "X_train = X_train/255.0\n",
    "X_test = X_test/255.0\n"
   ]
  },
  {
   "cell_type": "markdown",
   "metadata": {},
   "source": [
    "## EDA"
   ]
  },
  {
   "cell_type": "code",
   "execution_count": 14,
   "metadata": {
    "tags": []
   },
   "outputs": [
    {
     "data": {
      "image/png": "[encoded data removed]",
      "text/plain": [
       "<Figure size 640x480 with 1 Axes>"
      ]
     },
     "metadata": {},
     "output_type": "display_data"
    }
   ],
   "source": [
    "sns.countplot(x = y_train, palette=\"viridis\")\n",
    "\n",
    "plt.xlabel(\"Class Label\")\n",
    "plt.ylabel(\"Frequency\")\n",
    "plt.title(\"Frequency of Items in the Array\")\n",
    "\n",
    "# Show the plot\n",
    "plt.show()"
   ]
  },
  {
   "cell_type": "markdown",
   "metadata": {},
   "source": [
    "Shows the training data has equal distribution of classes."
   ]
  },
  {
   "cell_type": "markdown",
   "metadata": {},
   "source": [
    "## Model Training"
   ]
  },
  {
   "cell_type": "code",
   "execution_count": 47,
   "metadata": {
    "tags": []
   },
   "outputs": [
    {
     "name": "stdout",
     "output_type": "stream",
     "text": [
      "X_train shape before Dimensionality Reduction:  (60000, 784)\n"
     ]
    }
   ],
   "source": [
    "print(\"X_train shape before Dimensionality Reduction: \",X_train.shape)"
   ]
  },
  {
   "cell_type": "code",
   "execution_count": 23,
   "metadata": {
    "tags": []
   },
   "outputs": [
    {
     "name": "stdout",
     "output_type": "stream",
     "text": [
      "Y_train shape before Dimensionality Reduction:  (60000,)\n"
     ]
    }
   ],
   "source": [
    "print(\"Y_train shape before Dimensionality Reduction: \",y_train.shape)"
   ]
  },
  {
   "cell_type": "code",
   "execution_count": 21,
   "metadata": {
    "tags": []
   },
   "outputs": [
    {
     "data": {
      "text/plain": [
       "(10000, 784)"
      ]
     },
     "execution_count": 21,
     "metadata": {},
     "output_type": "execute_result"
    }
   ],
   "source": [
    "print(\"X_test shape before Dimensionality Reduction: \", X_test.shape)"
   ]
  },
  {
   "cell_type": "code",
   "execution_count": 24,
   "metadata": {
    "tags": []
   },
   "outputs": [
    {
     "name": "stdout",
     "output_type": "stream",
     "text": [
      "Y_test shape before Dimensionality Reduction:  (10000,)\n"
     ]
    }
   ],
   "source": [
    "print(\"Y_test shape before Dimensionality Reduction: \",y_test.shape)"
   ]
  },
  {
   "cell_type": "code",
   "execution_count": 25,
   "metadata": {
    "tags": []
   },
   "outputs": [],
   "source": [
    "# PCA \n",
    "\n",
    "from sklearn.decomposition import PCA \n",
    "\n",
    "pca = PCA(n_components = 0.95)\n",
    "\n",
    "X_train_pca = pca.fit_transform(X_train)\n",
    "X_test_pca = pca.transform(X_test)"
   ]
  },
  {
   "cell_type": "code",
   "execution_count": 27,
   "metadata": {
    "tags": []
   },
   "outputs": [
    {
     "name": "stdout",
     "output_type": "stream",
     "text": [
      "X_train shape after Dimensionality Reduction:  (60000, 187)\n",
      "X_test shape after Dimensionality Reduction:  (10000, 187)\n"
     ]
    }
   ],
   "source": [
    "print(\"X_train shape after Dimensionality Reduction: \",X_train_pca.shape)\n",
    "print(\"X_test shape after Dimensionality Reduction: \", X_test_pca.shape)"
   ]
  },
  {
   "cell_type": "code",
   "execution_count": 30,
   "metadata": {
    "tags": []
   },
   "outputs": [
    {
     "name": "stdout",
     "output_type": "stream",
     "text": [
      "The total variance campured after Dimensionality Reduction is:  0.9500039103537353\n"
     ]
    }
   ],
   "source": [
    "print(\"The total variance campured after Dimensionality Reduction is: \", np.sum(pca.explained_variance_ratio_))"
   ]
  },
  {
   "cell_type": "code",
   "execution_count": 31,
   "metadata": {
    "tags": []
   },
   "outputs": [
    {
     "name": "stdout",
     "output_type": "stream",
     "text": [
      "Fitting 5 folds for each of 50 candidates, totalling 250 fits\n",
      "[CV 4/5; 1/50] START C=55.28012397536853, coef0=8.313378347754414, degree=2, gamma=2.9384349974843382, kernel=poly\n",
      "[CV 4/5; 1/50] END C=55.28012397536853, coef0=8.313378347754414, degree=2, gamma=2.9384349974843382, kernel=poly;, score=0.890 total time= 2.7min\n",
      "[CV 3/5; 3/50] START C=354.2380429150014, coef0=4.86647996858362, degree=6, gamma=0.5632636859837549, kernel=poly\n",
      "[CV 3/5; 3/50] END C=354.2380429150014, coef0=4.86647996858362, degree=6, gamma=0.5632636859837549, kernel=poly;, score=0.893 total time= 3.0min\n",
      "[CV 1/5; 4/50] START C=649.5588832440994, gamma=2.4585183791572427, kernel=rbf..\n",
      "[CV 1/5; 4/50] END C=649.5588832440994, gamma=2.4585183791572427, kernel=rbf;, score=0.165 total time=45.7min\n",
      "[CV 4/5; 4/50] START C=649.5588832440994, gamma=2.4585183791572427, kernel=rbf..\n",
      "[CV 4/5; 4/50] END C=649.5588832440994, gamma=2.4585183791572427, kernel=rbf;, score=0.165 total time=59.7min\n",
      "[CV 4/5; 5/50] START C=158.4098677126512, gamma=2.639911093603837, kernel=rbf...\n",
      "[CV 4/5; 5/50] END C=158.4098677126512, gamma=2.639911093603837, kernel=rbf;, score=0.157 total time=44.4min\n",
      "[CV 2/5; 6/50] START C=204.25474783059218, kernel=linear........................\n",
      "[CV 2/5; 6/50] END C=204.25474783059218, kernel=linear;, score=0.855 total time=69.7min\n",
      "[CV 5/5; 6/50] START C=204.25474783059218, kernel=linear........................\n",
      "[CV 5/5; 6/50] END C=204.25474783059218, kernel=linear;, score=0.859 total time=79.0min\n",
      "[CV 2/5; 16/50] START C=608.8025833938575, gamma=0.58652486821706, kernel=rbf...\n",
      "[CV 2/5; 16/50] END C=608.8025833938575, gamma=0.58652486821706, kernel=rbf;, score=0.475 total time=72.7min\n",
      "[CV 1/5; 17/50] START C=29.211563672717723, coef0=0.8653568840220509, degree=6, gamma=1.4230497071633885, kernel=poly\n",
      "[CV 1/5; 17/50] END C=29.211563672717723, coef0=0.8653568840220509, degree=6, gamma=1.4230497071633885, kernel=poly;, score=0.883 total time= 3.2min\n",
      "[CV 2/5; 17/50] START C=29.211563672717723, coef0=0.8653568840220509, degree=6, gamma=1.4230497071633885, kernel=poly\n",
      "[CV 2/5; 17/50] END C=29.211563672717723, coef0=0.8653568840220509, degree=6, gamma=1.4230497071633885, kernel=poly;, score=0.882 total time= 3.2min\n",
      "[CV 3/5; 17/50] START C=29.211563672717723, coef0=0.8653568840220509, degree=6, gamma=1.4230497071633885, kernel=poly\n",
      "[CV 3/5; 17/50] END C=29.211563672717723, coef0=0.8653568840220509, degree=6, gamma=1.4230497071633885, kernel=poly;, score=0.881 total time= 3.3min\n",
      "[CV 4/5; 17/50] START C=29.211563672717723, coef0=0.8653568840220509, degree=6, gamma=1.4230497071633885, kernel=poly\n",
      "[CV 4/5; 17/50] END C=29.211563672717723, coef0=0.8653568840220509, degree=6, gamma=1.4230497071633885, kernel=poly;, score=0.889 total time= 3.2min\n",
      "[CV 5/5; 17/50] START C=29.211563672717723, coef0=0.8653568840220509, degree=6, gamma=1.4230497071633885, kernel=poly\n",
      "[CV 5/5; 17/50] END C=29.211563672717723, coef0=0.8653568840220509, degree=6, gamma=1.4230497071633885, kernel=poly;, score=0.880 total time= 3.5min\n",
      "[CV 1/5; 18/50] START C=965.015292526365, coef0=6.317760527377454, degree=5, gamma=1.1319239115630733, kernel=poly\n",
      "[CV 1/5; 18/50] END C=965.015292526365, coef0=6.317760527377454, degree=5, gamma=1.1319239115630733, kernel=poly;, score=0.895 total time= 3.1min\n",
      "[CV 2/5; 18/50] START C=965.015292526365, coef0=6.317760527377454, degree=5, gamma=1.1319239115630733, kernel=poly\n",
      "[CV 2/5; 18/50] END C=965.015292526365, coef0=6.317760527377454, degree=5, gamma=1.1319239115630733, kernel=poly;, score=0.892 total time= 3.2min\n",
      "[CV 3/5; 18/50] START C=965.015292526365, coef0=6.317760527377454, degree=5, gamma=1.1319239115630733, kernel=poly\n",
      "[CV 3/5; 18/50] END C=965.015292526365, coef0=6.317760527377454, degree=5, gamma=1.1319239115630733, kernel=poly;, score=0.894 total time= 3.2min\n",
      "[CV 4/5; 18/50] START C=965.015292526365, coef0=6.317760527377454, degree=5, gamma=1.1319239115630733, kernel=poly\n",
      "[CV 4/5; 18/50] END C=965.015292526365, coef0=6.317760527377454, degree=5, gamma=1.1319239115630733, kernel=poly;, score=0.900 total time= 3.3min\n",
      "[CV 5/5; 18/50] START C=965.015292526365, coef0=6.317760527377454, degree=5, gamma=1.1319239115630733, kernel=poly\n",
      "[CV 5/5; 18/50] END C=965.015292526365, coef0=6.317760527377454, degree=5, gamma=1.1319239115630733, kernel=poly;, score=0.890 total time= 3.1min\n",
      "[CV 1/5; 19/50] START C=812.0023911804107, kernel=linear........................\n",
      "[CV 1/5; 19/50] END C=812.0023911804107, kernel=linear;, score=0.861 total time=266.4min\n",
      "[CV 4/5; 21/50] START C=361.1484184638091, kernel=linear........................\n",
      "[CV 4/5; 21/50] END C=361.1484184638091, kernel=linear;, score=0.862 total time=116.0min\n",
      "[CV 5/5; 22/50] START C=566.45137309401, kernel=linear..........................\n",
      "[CV 5/5; 22/50] END C=566.45137309401, kernel=linear;, score=0.859 total time=176.8min\n",
      "[CV 3/5; 24/50] START C=835.9141644944826, kernel=linear........................\n",
      "[CV 3/5; 24/50] END C=835.9141644944826, kernel=linear;, score=0.864 total time=324.2min\n",
      "[CV 1/5; 28/50] START C=943.6400820158796, coef0=1.1170242718357142, gamma=2.530764898330671, kernel=sigmoid\n",
      "[CV 1/5; 28/50] END C=943.6400820158796, coef0=1.1170242718357142, gamma=2.530764898330671, kernel=sigmoid;, score=0.229 total time= 8.8min\n",
      "[CV 2/5; 28/50] START C=943.6400820158796, coef0=1.1170242718357142, gamma=2.530764898330671, kernel=sigmoid\n",
      "[CV 2/5; 28/50] END C=943.6400820158796, coef0=1.1170242718357142, gamma=2.530764898330671, kernel=sigmoid;, score=0.239 total time= 8.7min\n",
      "[CV 3/5; 28/50] START C=943.6400820158796, coef0=1.1170242718357142, gamma=2.530764898330671, kernel=sigmoid\n",
      "[CV 3/5; 28/50] END C=943.6400820158796, coef0=1.1170242718357142, gamma=2.530764898330671, kernel=sigmoid;, score=0.241 total time= 9.3min\n",
      "[CV 4/5; 28/50] START C=943.6400820158796, coef0=1.1170242718357142, gamma=2.530764898330671, kernel=sigmoid\n",
      "[CV 4/5; 28/50] END C=943.6400820158796, coef0=1.1170242718357142, gamma=2.530764898330671, kernel=sigmoid;, score=0.228 total time= 9.0min\n",
      "[CV 5/5; 28/50] START C=943.6400820158796, coef0=1.1170242718357142, gamma=2.530764898330671, kernel=sigmoid\n",
      "[CV 5/5; 28/50] END C=943.6400820158796, coef0=1.1170242718357142, gamma=2.530764898330671, kernel=sigmoid;, score=0.189 total time= 9.2min\n",
      "[CV 1/5; 29/50] START C=352.82313729544927, kernel=linear.......................\n",
      "[CV 1/5; 29/50] END C=352.82313729544927, kernel=linear;, score=0.861 total time=141.8min\n",
      "[CV 4/5; 29/50] START C=352.82313729544927, kernel=linear.......................\n",
      "[CV 4/5; 29/50] END C=352.82313729544927, kernel=linear;, score=0.862 total time=122.2min\n",
      "[CV 2/5; 31/50] START C=372.8743101202181, kernel=linear........................\n",
      "[CV 2/5; 31/50] END C=372.8743101202181, kernel=linear;, score=0.854 total time=122.9min\n",
      "[CV 5/5; 34/50] START C=486.1989568577606, kernel=linear........................\n",
      "[CV 5/5; 34/50] END C=486.1989568577606, kernel=linear;, score=0.859 total time=181.1min\n",
      "[CV 2/5; 39/50] START C=407.7857286771436, gamma=2.69581346465417, kernel=rbf...\n",
      "[CV 2/5; 39/50] END C=407.7857286771436, gamma=2.69581346465417, kernel=rbf;, score=0.149 total time=41.7min\n",
      "[CV 5/5; 39/50] START C=407.7857286771436, gamma=2.69581346465417, kernel=rbf...\n",
      "[CV 5/5; 39/50] END C=407.7857286771436, gamma=2.69581346465417, kernel=rbf;, score=0.154 total time=43.0min\n",
      "[CV 1/5; 41/50] START C=893.0842943552984, kernel=linear........................\n",
      "[CV 1/5; 41/50] END C=893.0842943552984, kernel=linear;, score=0.861 total time=363.0min\n",
      "[CV 1/5; 47/50] START C=523.612227931399, coef0=6.753861266487715, gamma=0.8438767788037874, kernel=sigmoid\n",
      "[CV 1/5; 47/50] END C=523.612227931399, coef0=6.753861266487715, gamma=0.8438767788037874, kernel=sigmoid;, score=0.167 total time=13.3min\n",
      "[CV 1/5; 48/50] START C=242.20767225593488, coef0=0.850804617502156, degree=4, gamma=0.306065464642273, kernel=poly\n",
      "[CV 1/5; 48/50] END C=242.20767225593488, coef0=0.850804617502156, degree=4, gamma=0.306065464642273, kernel=poly;, score=0.896 total time= 3.2min\n",
      "[CV 3/5; 48/50] START C=242.20767225593488, coef0=0.850804617502156, degree=4, gamma=0.306065464642273, kernel=poly\n",
      "[CV 3/5; 48/50] END C=242.20767225593488, coef0=0.850804617502156, degree=4, gamma=0.306065464642273, kernel=poly;, score=0.894 total time= 3.2min\n",
      "[CV 2/5; 49/50] START C=195.4446255624387, gamma=2.444026034673581, kernel=rbf..\n",
      "[CV 2/5; 49/50] END C=195.4446255624387, gamma=2.444026034673581, kernel=rbf;, score=0.160 total time=52.4min\n",
      "[CV 1/5; 2/50] START C=611.8438629026457, kernel=linear.........................\n",
      "[CV 1/5; 2/50] END C=611.8438629026457, kernel=linear;, score=0.861 total time=239.3min\n",
      "[CV 5/5; 7/50] START C=296.179932733648, coef0=6.287979088794833, gamma=1.739613430568635, kernel=sigmoid\n",
      "[CV 5/5; 7/50] END C=296.179932733648, coef0=6.287979088794833, gamma=1.739613430568635, kernel=sigmoid;, score=0.176 total time=13.5min\n",
      "[CV 2/5; 9/50] START C=327.66394768873414, coef0=1.4417430065342045, gamma=0.49693858360380283, kernel=sigmoid\n",
      "[CV 2/5; 9/50] END C=327.66394768873414, coef0=1.4417430065342045, gamma=0.49693858360380283, kernel=sigmoid;, score=0.228 total time=13.6min\n",
      "[CV 3/5; 10/50] START C=561.4371205346787, coef0=0.9055869553755707, degree=3, gamma=1.4323051600640015, kernel=poly\n",
      "[CV 3/5; 10/50] END C=561.4371205346787, coef0=0.9055869553755707, degree=3, gamma=1.4323051600640015, kernel=poly;, score=0.895 total time= 3.1min\n",
      "[CV 2/5; 11/50] START C=699.9436141265575, coef0=7.795245855555297, gamma=0.06889927731724445, kernel=sigmoid\n",
      "[CV 2/5; 11/50] END C=699.9436141265575, coef0=7.795245855555297, gamma=0.06889927731724445, kernel=sigmoid;, score=0.217 total time=19.7min\n",
      "[CV 3/5; 12/50] START C=368.2621924165053, coef0=6.909411973711297, gamma=2.4486030391766542, kernel=sigmoid\n",
      "[CV 3/5; 12/50] END C=368.2621924165053, coef0=6.909411973711297, gamma=2.4486030391766542, kernel=sigmoid;, score=0.215 total time=12.8min\n",
      "[CV 2/5; 15/50] START C=813.8324775869181, kernel=linear........................\n",
      "[CV 2/5; 15/50] END C=813.8324775869181, kernel=linear;, score=0.854 total time=259.0min\n",
      "[CV 4/5; 19/50] START C=812.0023911804107, kernel=linear........................\n",
      "[CV 4/5; 19/50] END C=812.0023911804107, kernel=linear;, score=0.862 total time=240.9min\n",
      "[CV 1/5; 23/50] START C=796.2427208560042, kernel=linear........................\n",
      "[CV 1/5; 23/50] END C=796.2427208560042, kernel=linear;, score=0.861 total time=270.0min\n",
      "[CV 1/5; 25/50] START C=365.5777679121648, coef0=2.443008669579084, degree=2, gamma=0.5302673416516542, kernel=poly\n",
      "[CV 1/5; 25/50] END C=365.5777679121648, coef0=2.443008669579084, degree=2, gamma=0.5302673416516542, kernel=poly;, score=0.885 total time= 2.2min\n",
      "[CV 2/5; 25/50] START C=365.5777679121648, coef0=2.443008669579084, degree=2, gamma=0.5302673416516542, kernel=poly\n",
      "[CV 2/5; 25/50] END C=365.5777679121648, coef0=2.443008669579084, degree=2, gamma=0.5302673416516542, kernel=poly;, score=0.883 total time= 2.1min\n",
      "[CV 3/5; 25/50] START C=365.5777679121648, coef0=2.443008669579084, degree=2, gamma=0.5302673416516542, kernel=poly\n",
      "[CV 3/5; 25/50] END C=365.5777679121648, coef0=2.443008669579084, degree=2, gamma=0.5302673416516542, kernel=poly;, score=0.888 total time= 2.0min\n",
      "[CV 4/5; 25/50] START C=365.5777679121648, coef0=2.443008669579084, degree=2, gamma=0.5302673416516542, kernel=poly\n",
      "[CV 4/5; 25/50] END C=365.5777679121648, coef0=2.443008669579084, degree=2, gamma=0.5302673416516542, kernel=poly;, score=0.890 total time= 2.0min\n",
      "[CV 5/5; 25/50] START C=365.5777679121648, coef0=2.443008669579084, degree=2, gamma=0.5302673416516542, kernel=poly\n",
      "[CV 5/5; 25/50] END C=365.5777679121648, coef0=2.443008669579084, degree=2, gamma=0.5302673416516542, kernel=poly;, score=0.885 total time= 2.1min\n",
      "[CV 1/5; 26/50] START C=638.9776820603654, gamma=1.4803451556902791, kernel=rbf.\n",
      "[CV 1/5; 26/50] END C=638.9776820603654, gamma=1.4803451556902791, kernel=rbf;, score=0.244 total time=51.9min\n",
      "[CV 3/5; 26/50] START C=638.9776820603654, gamma=1.4803451556902791, kernel=rbf.\n",
      "[CV 3/5; 26/50] END C=638.9776820603654, gamma=1.4803451556902791, kernel=rbf;, score=0.281 total time=90.1min\n",
      "[CV 3/5; 27/50] START C=890.7882624275934, kernel=linear........................\n",
      "[CV 3/5; 27/50] END C=890.7882624275934, kernel=linear;, score=0.864 total time=327.6min\n",
      "[CV 4/5; 30/50] START C=383.50906606711527, kernel=linear.......................\n",
      "[CV 4/5; 30/50] END C=383.50906606711527, kernel=linear;, score=0.862 total time=130.3min\n",
      "[CV 5/5; 32/50] START C=371.6126153280073, coef0=0.1237941160035765, degree=4, gamma=1.4351171319603548, kernel=poly\n",
      "[CV 5/5; 32/50] END C=371.6126153280073, coef0=0.1237941160035765, degree=4, gamma=1.4351171319603548, kernel=poly;, score=0.891 total time= 3.0min\n",
      "[CV 3/5; 33/50] START C=792.3413238490966, coef0=4.461801247588382, degree=3, gamma=2.4015292622517093, kernel=poly\n",
      "[CV 3/5; 33/50] END C=792.3413238490966, coef0=4.461801247588382, degree=3, gamma=2.4015292622517093, kernel=poly;, score=0.896 total time= 2.5min\n",
      "[CV 5/5; 33/50] START C=792.3413238490966, coef0=4.461801247588382, degree=3, gamma=2.4015292622517093, kernel=poly\n",
      "[CV 5/5; 33/50] END C=792.3413238490966, coef0=4.461801247588382, degree=3, gamma=2.4015292622517093, kernel=poly;, score=0.893 total time= 2.8min\n",
      "[CV 2/5; 34/50] START C=486.1989568577606, kernel=linear........................\n",
      "[CV 2/5; 34/50] END C=486.1989568577606, kernel=linear;, score=0.854 total time=167.8min\n",
      "[CV 2/5; 37/50] START C=703.0420771179782, kernel=linear........................\n",
      "[CV 2/5; 37/50] END C=703.0420771179782, kernel=linear;, score=0.853 total time=246.9min\n",
      "[CV 1/5; 42/50] START C=122.41799788722896, coef0=6.053203786639803, degree=5, gamma=2.1302471420633156, kernel=poly\n",
      "[CV 1/5; 42/50] END C=122.41799788722896, coef0=6.053203786639803, degree=5, gamma=2.1302471420633156, kernel=poly;, score=0.894 total time= 3.0min\n",
      "[CV 3/5; 42/50] START C=122.41799788722896, coef0=6.053203786639803, degree=5, gamma=2.1302471420633156, kernel=poly\n",
      "[CV 3/5; 42/50] END C=122.41799788722896, coef0=6.053203786639803, degree=5, gamma=2.1302471420633156, kernel=poly;, score=0.893 total time= 2.9min\n",
      "[CV 5/5; 42/50] START C=122.41799788722896, coef0=6.053203786639803, degree=5, gamma=2.1302471420633156, kernel=poly\n",
      "[CV 5/5; 42/50] END C=122.41799788722896, coef0=6.053203786639803, degree=5, gamma=2.1302471420633156, kernel=poly;, score=0.889 total time= 3.0min\n",
      "[CV 2/5; 43/50] START C=261.1361782262577, gamma=1.7902930207241208, kernel=rbf.\n",
      "[CV 2/5; 43/50] END C=261.1361782262577, gamma=1.7902930207241208, kernel=rbf;, score=0.202 total time=57.8min\n",
      "[CV 5/5; 43/50] START C=261.1361782262577, gamma=1.7902930207241208, kernel=rbf.\n",
      "[CV 5/5; 43/50] END C=261.1361782262577, gamma=1.7902930207241208, kernel=rbf;, score=0.205 total time=59.5min\n",
      "[CV 2/5; 45/50] START C=844.239995899795, gamma=1.8850263372342486, kernel=rbf..\n",
      "[CV 2/5; 45/50] END C=844.239995899795, gamma=1.8850263372342486, kernel=rbf;, score=0.194 total time=58.6min\n",
      "[CV 5/5; 45/50] START C=844.239995899795, gamma=1.8850263372342486, kernel=rbf..\n",
      "[CV 5/5; 45/50] END C=844.239995899795, gamma=1.8850263372342486, kernel=rbf;, score=0.197 total time=63.1min\n",
      "[CV 2/5; 47/50] START C=523.612227931399, coef0=6.753861266487715, gamma=0.8438767788037874, kernel=sigmoid\n",
      "[CV 2/5; 47/50] END C=523.612227931399, coef0=6.753861266487715, gamma=0.8438767788037874, kernel=sigmoid;, score=0.178 total time=13.3min\n",
      "[CV 2/5; 48/50] START C=242.20767225593488, coef0=0.850804617502156, degree=4, gamma=0.306065464642273, kernel=poly\n",
      "[CV 2/5; 48/50] END C=242.20767225593488, coef0=0.850804617502156, degree=4, gamma=0.306065464642273, kernel=poly;, score=0.895 total time= 3.2min\n",
      "[CV 4/5; 48/50] START C=242.20767225593488, coef0=0.850804617502156, degree=4, gamma=0.306065464642273, kernel=poly\n",
      "[CV 4/5; 48/50] END C=242.20767225593488, coef0=0.850804617502156, degree=4, gamma=0.306065464642273, kernel=poly;, score=0.900 total time= 3.2min\n",
      "[CV 3/5; 49/50] START C=195.4446255624387, gamma=2.444026034673581, kernel=rbf..\n",
      "[CV 3/5; 49/50] END C=195.4446255624387, gamma=2.444026034673581, kernel=rbf;, score=0.171 total time=52.1min\n",
      "[CV 3/5; 1/50] START C=55.28012397536853, coef0=8.313378347754414, degree=2, gamma=2.9384349974843382, kernel=poly\n",
      "[CV 3/5; 1/50] END C=55.28012397536853, coef0=8.313378347754414, degree=2, gamma=2.9384349974843382, kernel=poly;, score=0.888 total time= 2.7min\n",
      "[CV 5/5; 2/50] START C=611.8438629026457, kernel=linear.........................\n",
      "[CV 5/5; 2/50] END C=611.8438629026457, kernel=linear;, score=0.859 total time=237.2min\n",
      "[CV 1/5; 8/50] START C=731.9711002604598, coef0=0.1459075109635204, gamma=0.28018910090300886, kernel=sigmoid\n",
      "[CV 1/5; 8/50] END C=731.9711002604598, coef0=0.1459075109635204, gamma=0.28018910090300886, kernel=sigmoid;, score=0.267 total time=11.9min\n",
      "[CV 4/5; 8/50] START C=731.9711002604598, coef0=0.1459075109635204, gamma=0.28018910090300886, kernel=sigmoid\n",
      "[CV 4/5; 8/50] END C=731.9711002604598, coef0=0.1459075109635204, gamma=0.28018910090300886, kernel=sigmoid;, score=0.249 total time=12.7min\n",
      "[CV 1/5; 10/50] START C=561.4371205346787, coef0=0.9055869553755707, degree=3, gamma=1.4323051600640015, kernel=poly\n",
      "[CV 1/5; 10/50] END C=561.4371205346787, coef0=0.9055869553755707, degree=3, gamma=1.4323051600640015, kernel=poly;, score=0.895 total time= 3.1min\n",
      "[CV 4/5; 10/50] START C=561.4371205346787, coef0=0.9055869553755707, degree=3, gamma=1.4323051600640015, kernel=poly\n",
      "[CV 4/5; 10/50] END C=561.4371205346787, coef0=0.9055869553755707, degree=3, gamma=1.4323051600640015, kernel=poly;, score=0.900 total time= 3.1min\n",
      "[CV 3/5; 11/50] START C=699.9436141265575, coef0=7.795245855555297, gamma=0.06889927731724445, kernel=sigmoid\n",
      "[CV 3/5; 11/50] END C=699.9436141265575, coef0=7.795245855555297, gamma=0.06889927731724445, kernel=sigmoid;, score=0.199 total time=19.2min\n",
      "[CV 4/5; 12/50] START C=368.2621924165053, coef0=6.909411973711297, gamma=2.4486030391766542, kernel=sigmoid\n",
      "[CV 4/5; 12/50] END C=368.2621924165053, coef0=6.909411973711297, gamma=2.4486030391766542, kernel=sigmoid;, score=0.173 total time=13.3min\n",
      "[CV 3/5; 15/50] START C=813.8324775869181, kernel=linear........................\n",
      "[CV 3/5; 15/50] END C=813.8324775869181, kernel=linear;, score=0.864 total time=258.3min\n",
      "[CV 5/5; 19/50] START C=812.0023911804107, kernel=linear........................\n",
      "[CV 5/5; 19/50] END C=812.0023911804107, kernel=linear;, score=0.859 total time=250.6min\n",
      "[CV 3/5; 23/50] START C=796.2427208560042, kernel=linear........................\n",
      "[CV 3/5; 23/50] END C=796.2427208560042, kernel=linear;, score=0.864 total time=258.0min\n",
      "[CV 5/5; 24/50] START C=835.9141644944826, kernel=linear........................\n",
      "[CV 5/5; 24/50] END C=835.9141644944826, kernel=linear;, score=0.859 total time=340.2min\n",
      "[CV 3/5; 29/50] START C=352.82313729544927, kernel=linear.......................\n",
      "[CV 3/5; 29/50] END C=352.82313729544927, kernel=linear;, score=0.864 total time=128.9min\n",
      "[CV 2/5; 30/50] START C=383.50906606711527, kernel=linear.......................\n",
      "[CV 2/5; 30/50] END C=383.50906606711527, kernel=linear;, score=0.854 total time=132.1min\n",
      "[CV 5/5; 31/50] START C=372.8743101202181, kernel=linear........................\n",
      "[CV 5/5; 31/50] END C=372.8743101202181, kernel=linear;, score=0.859 total time=129.4min\n",
      "[CV 2/5; 36/50] START C=748.1255454069209, gamma=2.9631888578091305, kernel=rbf.\n",
      "[CV 2/5; 36/50] END C=748.1255454069209, gamma=2.9631888578091305, kernel=rbf;, score=0.141 total time=40.3min\n",
      "[CV 5/5; 36/50] START C=748.1255454069209, gamma=2.9631888578091305, kernel=rbf.\n",
      "[CV 5/5; 36/50] END C=748.1255454069209, gamma=2.9631888578091305, kernel=rbf;, score=0.145 total time=36.2min\n",
      "[CV 5/5; 37/50] START C=703.0420771179782, kernel=linear........................\n",
      "[CV 5/5; 37/50] END C=703.0420771179782, kernel=linear;, score=0.859 total time=241.6min\n",
      "[CV 3/5; 43/50] START C=261.1361782262577, gamma=1.7902930207241208, kernel=rbf.\n",
      "[CV 3/5; 43/50] END C=261.1361782262577, gamma=1.7902930207241208, kernel=rbf;, score=0.211 total time=56.3min\n",
      "[CV 1/5; 44/50] START C=373.8145173959693, coef0=0.8306444303844489, gamma=0.7190213188366747, kernel=sigmoid\n",
      "[CV 1/5; 44/50] END C=373.8145173959693, coef0=0.8306444303844489, gamma=0.7190213188366747, kernel=sigmoid;, score=0.245 total time=11.4min\n",
      "[CV 2/5; 44/50] START C=373.8145173959693, coef0=0.8306444303844489, gamma=0.7190213188366747, kernel=sigmoid\n",
      "[CV 2/5; 44/50] END C=373.8145173959693, coef0=0.8306444303844489, gamma=0.7190213188366747, kernel=sigmoid;, score=0.253 total time=12.4min\n",
      "[CV 3/5; 44/50] START C=373.8145173959693, coef0=0.8306444303844489, gamma=0.7190213188366747, kernel=sigmoid\n",
      "[CV 3/5; 44/50] END C=373.8145173959693, coef0=0.8306444303844489, gamma=0.7190213188366747, kernel=sigmoid;, score=0.249 total time=13.7min\n",
      "[CV 4/5; 44/50] START C=373.8145173959693, coef0=0.8306444303844489, gamma=0.7190213188366747, kernel=sigmoid\n",
      "[CV 4/5; 44/50] END C=373.8145173959693, coef0=0.8306444303844489, gamma=0.7190213188366747, kernel=sigmoid;, score=0.252 total time=12.6min\n",
      "[CV 5/5; 44/50] START C=373.8145173959693, coef0=0.8306444303844489, gamma=0.7190213188366747, kernel=sigmoid\n",
      "[CV 5/5; 44/50] END C=373.8145173959693, coef0=0.8306444303844489, gamma=0.7190213188366747, kernel=sigmoid;, score=0.212 total time=11.5min\n",
      "[CV 3/5; 45/50] START C=844.239995899795, gamma=1.8850263372342486, kernel=rbf..\n",
      "[CV 3/5; 45/50] END C=844.239995899795, gamma=1.8850263372342486, kernel=rbf;, score=0.204 total time=57.3min\n",
      "[CV 1/5; 46/50] START C=60.196169866349805, kernel=linear.......................\n",
      "[CV 1/5; 46/50] END C=60.196169866349805, kernel=linear;, score=0.861 total time=36.7min\n",
      "[CV 3/5; 46/50] START C=60.196169866349805, kernel=linear.......................\n",
      "[CV 3/5; 46/50] END C=60.196169866349805, kernel=linear;, score=0.865 total time=27.8min\n",
      "[CV 4/5; 47/50] START C=523.612227931399, coef0=6.753861266487715, gamma=0.8438767788037874, kernel=sigmoid\n",
      "[CV 4/5; 47/50] END C=523.612227931399, coef0=6.753861266487715, gamma=0.8438767788037874, kernel=sigmoid;, score=0.145 total time=13.9min\n",
      "[CV 1/5; 49/50] START C=195.4446255624387, gamma=2.444026034673581, kernel=rbf..\n",
      "[CV 1/5; 49/50] END C=195.4446255624387, gamma=2.444026034673581, kernel=rbf;, score=0.166 total time=53.2min\n",
      "[CV 5/5; 1/50] START C=55.28012397536853, coef0=8.313378347754414, degree=2, gamma=2.9384349974843382, kernel=poly\n",
      "[CV 5/5; 1/50] END C=55.28012397536853, coef0=8.313378347754414, degree=2, gamma=2.9384349974843382, kernel=poly;, score=0.885 total time= 2.7min\n",
      "[CV 2/5; 3/50] START C=354.2380429150014, coef0=4.86647996858362, degree=6, gamma=0.5632636859837549, kernel=poly\n",
      "[CV 2/5; 3/50] END C=354.2380429150014, coef0=4.86647996858362, degree=6, gamma=0.5632636859837549, kernel=poly;, score=0.893 total time= 3.0min\n",
      "[CV 5/5; 3/50] START C=354.2380429150014, coef0=4.86647996858362, degree=6, gamma=0.5632636859837549, kernel=poly\n",
      "[CV 5/5; 3/50] END C=354.2380429150014, coef0=4.86647996858362, degree=6, gamma=0.5632636859837549, kernel=poly;, score=0.888 total time= 3.0min\n",
      "[CV 3/5; 4/50] START C=649.5588832440994, gamma=2.4585183791572427, kernel=rbf..\n",
      "[CV 3/5; 4/50] END C=649.5588832440994, gamma=2.4585183791572427, kernel=rbf;, score=0.171 total time=43.5min\n",
      "[CV 5/5; 4/50] START C=649.5588832440994, gamma=2.4585183791572427, kernel=rbf..\n",
      "[CV 5/5; 4/50] END C=649.5588832440994, gamma=2.4585183791572427, kernel=rbf;, score=0.164 total time=58.8min\n",
      "[CV 3/5; 5/50] START C=158.4098677126512, gamma=2.639911093603837, kernel=rbf...\n",
      "[CV 3/5; 5/50] END C=158.4098677126512, gamma=2.639911093603837, kernel=rbf;, score=0.162 total time=42.9min\n",
      "[CV 5/5; 5/50] START C=158.4098677126512, gamma=2.639911093603837, kernel=rbf...\n",
      "[CV 5/5; 5/50] END C=158.4098677126512, gamma=2.639911093603837, kernel=rbf;, score=0.156 total time=31.9min\n",
      "[CV 3/5; 6/50] START C=204.25474783059218, kernel=linear........................\n",
      "[CV 3/5; 6/50] END C=204.25474783059218, kernel=linear;, score=0.863 total time=68.3min\n",
      "[CV 3/5; 9/50] START C=327.66394768873414, coef0=1.4417430065342045, gamma=0.49693858360380283, kernel=sigmoid\n",
      "[CV 3/5; 9/50] END C=327.66394768873414, coef0=1.4417430065342045, gamma=0.49693858360380283, kernel=sigmoid;, score=0.236 total time=13.8min\n",
      "[CV 5/5; 10/50] START C=561.4371205346787, coef0=0.9055869553755707, degree=3, gamma=1.4323051600640015, kernel=poly\n",
      "[CV 5/5; 10/50] END C=561.4371205346787, coef0=0.9055869553755707, degree=3, gamma=1.4323051600640015, kernel=poly;, score=0.891 total time= 3.1min\n",
      "[CV 4/5; 11/50] START C=699.9436141265575, coef0=7.795245855555297, gamma=0.06889927731724445, kernel=sigmoid\n",
      "[CV 4/5; 11/50] END C=699.9436141265575, coef0=7.795245855555297, gamma=0.06889927731724445, kernel=sigmoid;, score=0.201 total time=19.5min\n",
      "[CV 5/5; 12/50] START C=368.2621924165053, coef0=6.909411973711297, gamma=2.4486030391766542, kernel=sigmoid\n",
      "[CV 5/5; 12/50] END C=368.2621924165053, coef0=6.909411973711297, gamma=2.4486030391766542, kernel=sigmoid;, score=0.187 total time=13.8min\n",
      "[CV 3/5; 16/50] START C=608.8025833938575, gamma=0.58652486821706, kernel=rbf...\n",
      "[CV 3/5; 16/50] END C=608.8025833938575, gamma=0.58652486821706, kernel=rbf;, score=0.480 total time=72.5min\n",
      "[CV 5/5; 16/50] START C=608.8025833938575, gamma=0.58652486821706, kernel=rbf...\n",
      "[CV 5/5; 16/50] END C=608.8025833938575, gamma=0.58652486821706, kernel=rbf;, score=0.484 total time=69.6min\n",
      "[CV 3/5; 19/50] START C=812.0023911804107, kernel=linear........................\n",
      "[CV 3/5; 19/50] END C=812.0023911804107, kernel=linear;, score=0.864 total time=247.4min\n",
      "[CV 1/5; 22/50] START C=566.45137309401, kernel=linear..........................\n",
      "[CV 1/5; 22/50] END C=566.45137309401, kernel=linear;, score=0.861 total time=189.2min\n",
      "[CV 1/5; 24/50] START C=835.9141644944826, kernel=linear........................\n",
      "[CV 1/5; 24/50] END C=835.9141644944826, kernel=linear;, score=0.861 total time=318.9min\n",
      "[CV 1/5; 27/50] START C=890.7882624275934, kernel=linear........................\n",
      "[CV 1/5; 27/50] END C=890.7882624275934, kernel=linear;, score=0.861 total time=341.1min\n",
      "[CV 3/5; 30/50] START C=383.50906606711527, kernel=linear.......................\n",
      "[CV 3/5; 30/50] END C=383.50906606711527, kernel=linear;, score=0.864 total time=129.5min\n",
      "[CV 1/5; 32/50] START C=371.6126153280073, coef0=0.1237941160035765, degree=4, gamma=1.4351171319603548, kernel=poly\n",
      "[CV 1/5; 32/50] END C=371.6126153280073, coef0=0.1237941160035765, degree=4, gamma=1.4351171319603548, kernel=poly;, score=0.893 total time= 2.5min\n",
      "[CV 2/5; 32/50] START C=371.6126153280073, coef0=0.1237941160035765, degree=4, gamma=1.4351171319603548, kernel=poly\n",
      "[CV 2/5; 32/50] END C=371.6126153280073, coef0=0.1237941160035765, degree=4, gamma=1.4351171319603548, kernel=poly;, score=0.891 total time= 2.4min\n",
      "[CV 3/5; 32/50] START C=371.6126153280073, coef0=0.1237941160035765, degree=4, gamma=1.4351171319603548, kernel=poly\n",
      "[CV 3/5; 32/50] END C=371.6126153280073, coef0=0.1237941160035765, degree=4, gamma=1.4351171319603548, kernel=poly;, score=0.891 total time= 2.7min\n",
      "[CV 4/5; 32/50] START C=371.6126153280073, coef0=0.1237941160035765, degree=4, gamma=1.4351171319603548, kernel=poly\n",
      "[CV 4/5; 32/50] END C=371.6126153280073, coef0=0.1237941160035765, degree=4, gamma=1.4351171319603548, kernel=poly;, score=0.898 total time= 2.6min\n",
      "[CV 1/5; 33/50] START C=792.3413238490966, coef0=4.461801247588382, degree=3, gamma=2.4015292622517093, kernel=poly\n",
      "[CV 1/5; 33/50] END C=792.3413238490966, coef0=4.461801247588382, degree=3, gamma=2.4015292622517093, kernel=poly;, score=0.896 total time= 2.7min\n",
      "[CV 2/5; 33/50] START C=792.3413238490966, coef0=4.461801247588382, degree=3, gamma=2.4015292622517093, kernel=poly\n",
      "[CV 2/5; 33/50] END C=792.3413238490966, coef0=4.461801247588382, degree=3, gamma=2.4015292622517093, kernel=poly;, score=0.892 total time= 2.5min\n",
      "[CV 4/5; 33/50] START C=792.3413238490966, coef0=4.461801247588382, degree=3, gamma=2.4015292622517093, kernel=poly\n",
      "[CV 4/5; 33/50] END C=792.3413238490966, coef0=4.461801247588382, degree=3, gamma=2.4015292622517093, kernel=poly;, score=0.901 total time= 2.8min\n",
      "[CV 1/5; 34/50] START C=486.1989568577606, kernel=linear........................\n",
      "[CV 1/5; 34/50] END C=486.1989568577606, kernel=linear;, score=0.860 total time=183.2min\n",
      "[CV 4/5; 37/50] START C=703.0420771179782, kernel=linear........................\n",
      "[CV 4/5; 37/50] END C=703.0420771179782, kernel=linear;, score=0.862 total time=231.7min\n",
      "[CV 2/5; 42/50] START C=122.41799788722896, coef0=6.053203786639803, degree=5, gamma=2.1302471420633156, kernel=poly\n",
      "[CV 2/5; 42/50] END C=122.41799788722896, coef0=6.053203786639803, degree=5, gamma=2.1302471420633156, kernel=poly;, score=0.891 total time= 3.0min\n",
      "[CV 4/5; 42/50] START C=122.41799788722896, coef0=6.053203786639803, degree=5, gamma=2.1302471420633156, kernel=poly\n",
      "[CV 4/5; 42/50] END C=122.41799788722896, coef0=6.053203786639803, degree=5, gamma=2.1302471420633156, kernel=poly;, score=0.900 total time= 2.9min\n",
      "[CV 1/5; 43/50] START C=261.1361782262577, gamma=1.7902930207241208, kernel=rbf.\n",
      "[CV 1/5; 43/50] END C=261.1361782262577, gamma=1.7902930207241208, kernel=rbf;, score=0.209 total time=57.4min\n",
      "[CV 4/5; 43/50] START C=261.1361782262577, gamma=1.7902930207241208, kernel=rbf.\n",
      "[CV 4/5; 43/50] END C=261.1361782262577, gamma=1.7902930207241208, kernel=rbf;, score=0.208 total time=58.7min\n",
      "[CV 1/5; 45/50] START C=844.239995899795, gamma=1.8850263372342486, kernel=rbf..\n",
      "[CV 1/5; 45/50] END C=844.239995899795, gamma=1.8850263372342486, kernel=rbf;, score=0.199 total time=56.9min\n",
      "[CV 4/5; 45/50] START C=844.239995899795, gamma=1.8850263372342486, kernel=rbf..\n",
      "[CV 4/5; 45/50] END C=844.239995899795, gamma=1.8850263372342486, kernel=rbf;, score=0.200 total time=64.2min\n",
      "[CV 5/5; 46/50] START C=60.196169866349805, kernel=linear.......................\n",
      "[CV 5/5; 46/50] END C=60.196169866349805, kernel=linear;, score=0.859 total time=25.8min\n",
      "[CV 5/5; 49/50] START C=195.4446255624387, gamma=2.444026034673581, kernel=rbf..\n",
      "[CV 5/5; 49/50] END C=195.4446255624387, gamma=2.444026034673581, kernel=rbf;, score=0.165 total time=51.6min\n",
      "[CV 3/5; 2/50] START C=611.8438629026457, kernel=linear.........................\n",
      "[CV 3/5; 2/50] END C=611.8438629026457, kernel=linear;, score=0.864 total time=222.9min\n",
      "[CV 4/5; 6/50] START C=204.25474783059218, kernel=linear........................\n",
      "[CV 4/5; 6/50] END C=204.25474783059218, kernel=linear;, score=0.862 total time=74.8min\n",
      "[CV 5/5; 13/50] START C=985.7244028041889, coef0=2.5910759641110577, degree=3, gamma=2.6115492610044497, kernel=poly\n",
      "[CV 5/5; 13/50] END C=985.7244028041889, coef0=2.5910759641110577, degree=3, gamma=2.6115492610044497, kernel=poly;, score=0.892 total time= 3.4min\n",
      "[CV 4/5; 14/50] START C=696.7649294064507, coef0=5.7542370741641795, degree=3, gamma=0.19362069643761504, kernel=poly\n",
      "[CV 4/5; 14/50] END C=696.7649294064507, coef0=5.7542370741641795, degree=3, gamma=0.19362069643761504, kernel=poly;, score=0.899 total time= 2.8min\n",
      "[CV 5/5; 15/50] START C=813.8324775869181, kernel=linear........................\n",
      "[CV 5/5; 15/50] END C=813.8324775869181, kernel=linear;, score=0.858 total time=272.7min\n",
      "[CV 3/5; 20/50] START C=195.23098830451636, coef0=7.363246455944383, gamma=2.7820061672881855, kernel=sigmoid\n",
      "[CV 3/5; 20/50] END C=195.23098830451636, coef0=7.363246455944383, gamma=2.7820061672881855, kernel=sigmoid;, score=0.224 total time= 9.4min\n",
      "[CV 5/5; 20/50] START C=195.23098830451636, coef0=7.363246455944383, gamma=2.7820061672881855, kernel=sigmoid\n",
      "[CV 5/5; 20/50] END C=195.23098830451636, coef0=7.363246455944383, gamma=2.7820061672881855, kernel=sigmoid;, score=0.188 total time= 8.7min\n",
      "[CV 3/5; 21/50] START C=361.1484184638091, kernel=linear........................\n",
      "[CV 3/5; 21/50] END C=361.1484184638091, kernel=linear;, score=0.864 total time=112.6min\n",
      "[CV 4/5; 22/50] START C=566.45137309401, kernel=linear..........................\n",
      "[CV 4/5; 22/50] END C=566.45137309401, kernel=linear;, score=0.862 total time=177.8min\n",
      "[CV 2/5; 24/50] START C=835.9141644944826, kernel=linear........................\n",
      "[CV 2/5; 24/50] END C=835.9141644944826, kernel=linear;, score=0.853 total time=286.8min\n",
      "[CV 5/5; 26/50] START C=638.9776820603654, gamma=1.4803451556902791, kernel=rbf.\n",
      "[CV 5/5; 26/50] END C=638.9776820603654, gamma=1.4803451556902791, kernel=rbf;, score=0.239 total time=73.5min\n",
      "[CV 5/5; 27/50] START C=890.7882624275934, kernel=linear........................\n",
      "[CV 5/5; 27/50] END C=890.7882624275934, kernel=linear;, score=0.859 total time=333.3min\n",
      "[CV 1/5; 31/50] START C=372.8743101202181, kernel=linear........................\n",
      "[CV 1/5; 31/50] END C=372.8743101202181, kernel=linear;, score=0.861 total time=136.0min\n",
      "[CV 4/5; 34/50] START C=486.1989568577606, kernel=linear........................\n",
      "[CV 4/5; 34/50] END C=486.1989568577606, kernel=linear;, score=0.862 total time=168.6min\n",
      "[CV 2/5; 38/50] START C=217.38288650500172, coef0=5.740834854450117, gamma=2.3458446460492275, kernel=sigmoid\n",
      "[CV 2/5; 38/50] END C=217.38288650500172, coef0=5.740834854450117, gamma=2.3458446460492275, kernel=sigmoid;, score=0.243 total time= 9.5min\n",
      "[CV 4/5; 38/50] START C=217.38288650500172, coef0=5.740834854450117, gamma=2.3458446460492275, kernel=sigmoid\n",
      "[CV 4/5; 38/50] END C=217.38288650500172, coef0=5.740834854450117, gamma=2.3458446460492275, kernel=sigmoid;, score=0.195 total time=10.3min\n",
      "[CV 1/5; 39/50] START C=407.7857286771436, gamma=2.69581346465417, kernel=rbf...\n",
      "[CV 1/5; 39/50] END C=407.7857286771436, gamma=2.69581346465417, kernel=rbf;, score=0.154 total time=42.5min\n",
      "[CV 4/5; 39/50] START C=407.7857286771436, gamma=2.69581346465417, kernel=rbf...\n",
      "[CV 4/5; 39/50] END C=407.7857286771436, gamma=2.69581346465417, kernel=rbf;, score=0.154 total time=43.7min\n",
      "[CV 5/5; 40/50] START C=142.7164812053633, coef0=7.598969988822755, gamma=2.800730256403485, kernel=sigmoid\n",
      "[CV 5/5; 40/50] END C=142.7164812053633, coef0=7.598969988822755, gamma=2.800730256403485, kernel=sigmoid;, score=0.185 total time=11.4min\n",
      "[CV 3/5; 41/50] START C=893.0842943552984, kernel=linear........................\n",
      "[CV 3/5; 41/50] END C=893.0842943552984, kernel=linear;, score=0.864 total time=327.5min\n",
      "[CV 2/5; 46/50] START C=60.196169866349805, kernel=linear.......................\n",
      "[CV 2/5; 46/50] END C=60.196169866349805, kernel=linear;, score=0.856 total time=28.8min\n",
      "[CV 3/5; 47/50] START C=523.612227931399, coef0=6.753861266487715, gamma=0.8438767788037874, kernel=sigmoid\n",
      "[CV 3/5; 47/50] END C=523.612227931399, coef0=6.753861266487715, gamma=0.8438767788037874, kernel=sigmoid;, score=0.172 total time=13.6min\n",
      "[CV 5/5; 48/50] START C=242.20767225593488, coef0=0.850804617502156, degree=4, gamma=0.306065464642273, kernel=poly\n",
      "[CV 5/5; 48/50] END C=242.20767225593488, coef0=0.850804617502156, degree=4, gamma=0.306065464642273, kernel=poly;, score=0.891 total time= 3.3min\n",
      "[CV 4/5; 49/50] START C=195.4446255624387, gamma=2.444026034673581, kernel=rbf..\n",
      "[CV 4/5; 49/50] END C=195.4446255624387, gamma=2.444026034673581, kernel=rbf;, score=0.165 total time=52.5min\n",
      "[CV 1/5; 1/50] START C=55.28012397536853, coef0=8.313378347754414, degree=2, gamma=2.9384349974843382, kernel=poly\n",
      "[CV 1/5; 1/50] END C=55.28012397536853, coef0=8.313378347754414, degree=2, gamma=2.9384349974843382, kernel=poly;, score=0.886 total time= 2.7min\n",
      "[CV 1/5; 3/50] START C=354.2380429150014, coef0=4.86647996858362, degree=6, gamma=0.5632636859837549, kernel=poly\n",
      "[CV 1/5; 3/50] END C=354.2380429150014, coef0=4.86647996858362, degree=6, gamma=0.5632636859837549, kernel=poly;, score=0.893 total time= 3.0min\n",
      "[CV 4/5; 3/50] START C=354.2380429150014, coef0=4.86647996858362, degree=6, gamma=0.5632636859837549, kernel=poly\n",
      "[CV 4/5; 3/50] END C=354.2380429150014, coef0=4.86647996858362, degree=6, gamma=0.5632636859837549, kernel=poly;, score=0.898 total time= 2.9min\n",
      "[CV 2/5; 4/50] START C=649.5588832440994, gamma=2.4585183791572427, kernel=rbf..\n",
      "[CV 2/5; 4/50] END C=649.5588832440994, gamma=2.4585183791572427, kernel=rbf;, score=0.159 total time=43.8min\n",
      "[CV 1/5; 5/50] START C=158.4098677126512, gamma=2.639911093603837, kernel=rbf...\n",
      "[CV 1/5; 5/50] END C=158.4098677126512, gamma=2.639911093603837, kernel=rbf;, score=0.156 total time=58.6min\n",
      "[CV 2/5; 5/50] START C=158.4098677126512, gamma=2.639911093603837, kernel=rbf...\n",
      "[CV 2/5; 5/50] END C=158.4098677126512, gamma=2.639911093603837, kernel=rbf;, score=0.151 total time=43.5min\n",
      "[CV 1/5; 6/50] START C=204.25474783059218, kernel=linear........................\n",
      "[CV 1/5; 6/50] END C=204.25474783059218, kernel=linear;, score=0.861 total time=73.9min\n",
      "[CV 1/5; 7/50] START C=296.179932733648, coef0=6.287979088794833, gamma=1.739613430568635, kernel=sigmoid\n",
      "[CV 1/5; 7/50] END C=296.179932733648, coef0=6.287979088794833, gamma=1.739613430568635, kernel=sigmoid;, score=0.192 total time=10.6min\n",
      "[CV 4/5; 7/50] START C=296.179932733648, coef0=6.287979088794833, gamma=1.739613430568635, kernel=sigmoid\n",
      "[CV 4/5; 7/50] END C=296.179932733648, coef0=6.287979088794833, gamma=1.739613430568635, kernel=sigmoid;, score=0.193 total time=13.0min\n",
      "[CV 5/5; 8/50] START C=731.9711002604598, coef0=0.1459075109635204, gamma=0.28018910090300886, kernel=sigmoid\n",
      "[CV 5/5; 8/50] END C=731.9711002604598, coef0=0.1459075109635204, gamma=0.28018910090300886, kernel=sigmoid;, score=0.263 total time=12.6min\n",
      "[CV 5/5; 9/50] START C=327.66394768873414, coef0=1.4417430065342045, gamma=0.49693858360380283, kernel=sigmoid\n",
      "[CV 5/5; 9/50] END C=327.66394768873414, coef0=1.4417430065342045, gamma=0.49693858360380283, kernel=sigmoid;, score=0.220 total time=13.3min\n",
      "[CV 1/5; 12/50] START C=368.2621924165053, coef0=6.909411973711297, gamma=2.4486030391766542, kernel=sigmoid\n",
      "[CV 1/5; 12/50] END C=368.2621924165053, coef0=6.909411973711297, gamma=2.4486030391766542, kernel=sigmoid;, score=0.209 total time=13.5min\n",
      "[CV 1/5; 13/50] START C=985.7244028041889, coef0=2.5910759641110577, degree=3, gamma=2.6115492610044497, kernel=poly\n",
      "[CV 1/5; 13/50] END C=985.7244028041889, coef0=2.5910759641110577, degree=3, gamma=2.6115492610044497, kernel=poly;, score=0.895 total time= 3.2min\n",
      "[CV 3/5; 13/50] START C=985.7244028041889, coef0=2.5910759641110577, degree=3, gamma=2.6115492610044497, kernel=poly\n",
      "[CV 3/5; 13/50] END C=985.7244028041889, coef0=2.5910759641110577, degree=3, gamma=2.6115492610044497, kernel=poly;, score=0.895 total time= 3.2min\n",
      "[CV 1/5; 14/50] START C=696.7649294064507, coef0=5.7542370741641795, degree=3, gamma=0.19362069643761504, kernel=poly\n",
      "[CV 1/5; 14/50] END C=696.7649294064507, coef0=5.7542370741641795, degree=3, gamma=0.19362069643761504, kernel=poly;, score=0.895 total time= 3.0min\n",
      "[CV 3/5; 14/50] START C=696.7649294064507, coef0=5.7542370741641795, degree=3, gamma=0.19362069643761504, kernel=poly\n",
      "[CV 3/5; 14/50] END C=696.7649294064507, coef0=5.7542370741641795, degree=3, gamma=0.19362069643761504, kernel=poly;, score=0.897 total time= 2.8min\n",
      "[CV 4/5; 15/50] START C=813.8324775869181, kernel=linear........................\n",
      "[CV 4/5; 15/50] END C=813.8324775869181, kernel=linear;, score=0.862 total time=259.0min\n",
      "[CV 1/5; 20/50] START C=195.23098830451636, coef0=7.363246455944383, gamma=2.7820061672881855, kernel=sigmoid\n",
      "[CV 1/5; 20/50] END C=195.23098830451636, coef0=7.363246455944383, gamma=2.7820061672881855, kernel=sigmoid;, score=0.219 total time= 9.0min\n",
      "[CV 2/5; 20/50] START C=195.23098830451636, coef0=7.363246455944383, gamma=2.7820061672881855, kernel=sigmoid\n",
      "[CV 2/5; 20/50] END C=195.23098830451636, coef0=7.363246455944383, gamma=2.7820061672881855, kernel=sigmoid;, score=0.221 total time= 8.4min\n",
      "[CV 4/5; 20/50] START C=195.23098830451636, coef0=7.363246455944383, gamma=2.7820061672881855, kernel=sigmoid\n",
      "[CV 4/5; 20/50] END C=195.23098830451636, coef0=7.363246455944383, gamma=2.7820061672881855, kernel=sigmoid;, score=0.173 total time= 9.4min\n",
      "[CV 2/5; 21/50] START C=361.1484184638091, kernel=linear........................\n",
      "[CV 2/5; 21/50] END C=361.1484184638091, kernel=linear;, score=0.854 total time=111.4min\n",
      "[CV 2/5; 22/50] START C=566.45137309401, kernel=linear..........................\n",
      "[CV 2/5; 22/50] END C=566.45137309401, kernel=linear;, score=0.854 total time=167.6min\n",
      "[CV 4/5; 23/50] START C=796.2427208560042, kernel=linear........................\n",
      "[CV 4/5; 23/50] END C=796.2427208560042, kernel=linear;, score=0.862 total time=246.7min\n",
      "[CV 2/5; 26/50] START C=638.9776820603654, gamma=1.4803451556902791, kernel=rbf.\n",
      "[CV 2/5; 26/50] END C=638.9776820603654, gamma=1.4803451556902791, kernel=rbf;, score=0.241 total time=87.4min\n",
      "[CV 2/5; 27/50] START C=890.7882624275934, kernel=linear........................\n",
      "[CV 2/5; 27/50] END C=890.7882624275934, kernel=linear;, score=0.854 total time=324.6min\n",
      "[CV 1/5; 30/50] START C=383.50906606711527, kernel=linear.......................\n",
      "[CV 1/5; 30/50] END C=383.50906606711527, kernel=linear;, score=0.861 total time=134.7min\n",
      "[CV 4/5; 31/50] START C=372.8743101202181, kernel=linear........................\n",
      "[CV 4/5; 31/50] END C=372.8743101202181, kernel=linear;, score=0.862 total time=126.6min\n",
      "[CV 4/5; 35/50] START C=411.4836157793766, coef0=9.851467976958045, gamma=2.4043045912332106, kernel=sigmoid\n",
      "[CV 4/5; 35/50] END C=411.4836157793766, coef0=9.851467976958045, gamma=2.4043045912332106, kernel=sigmoid;, score=0.190 total time=10.7min\n",
      "[CV 1/5; 36/50] START C=748.1255454069209, gamma=2.9631888578091305, kernel=rbf.\n",
      "[CV 1/5; 36/50] END C=748.1255454069209, gamma=2.9631888578091305, kernel=rbf;, score=0.144 total time=41.1min\n",
      "[CV 4/5; 36/50] START C=748.1255454069209, gamma=2.9631888578091305, kernel=rbf.\n",
      "[CV 4/5; 36/50] END C=748.1255454069209, gamma=2.9631888578091305, kernel=rbf;, score=0.144 total time=37.4min\n",
      "[CV 1/5; 38/50] START C=217.38288650500172, coef0=5.740834854450117, gamma=2.3458446460492275, kernel=sigmoid\n",
      "[CV 1/5; 38/50] END C=217.38288650500172, coef0=5.740834854450117, gamma=2.3458446460492275, kernel=sigmoid;, score=0.206 total time= 9.4min\n",
      "[CV 3/5; 38/50] START C=217.38288650500172, coef0=5.740834854450117, gamma=2.3458446460492275, kernel=sigmoid\n",
      "[CV 3/5; 38/50] END C=217.38288650500172, coef0=5.740834854450117, gamma=2.3458446460492275, kernel=sigmoid;, score=0.232 total time= 9.9min\n",
      "[CV 5/5; 38/50] START C=217.38288650500172, coef0=5.740834854450117, gamma=2.3458446460492275, kernel=sigmoid\n",
      "[CV 5/5; 38/50] END C=217.38288650500172, coef0=5.740834854450117, gamma=2.3458446460492275, kernel=sigmoid;, score=0.183 total time=11.0min\n",
      "[CV 3/5; 39/50] START C=407.7857286771436, gamma=2.69581346465417, kernel=rbf...\n",
      "[CV 3/5; 39/50] END C=407.7857286771436, gamma=2.69581346465417, kernel=rbf;, score=0.159 total time=40.6min\n",
      "[CV 1/5; 40/50] START C=142.7164812053633, coef0=7.598969988822755, gamma=2.800730256403485, kernel=sigmoid\n",
      "[CV 1/5; 40/50] END C=142.7164812053633, coef0=7.598969988822755, gamma=2.800730256403485, kernel=sigmoid;, score=0.190 total time=12.8min\n",
      "[CV 2/5; 40/50] START C=142.7164812053633, coef0=7.598969988822755, gamma=2.800730256403485, kernel=sigmoid\n",
      "[CV 2/5; 40/50] END C=142.7164812053633, coef0=7.598969988822755, gamma=2.800730256403485, kernel=sigmoid;, score=0.235 total time=11.2min\n",
      "[CV 3/5; 40/50] START C=142.7164812053633, coef0=7.598969988822755, gamma=2.800730256403485, kernel=sigmoid\n",
      "[CV 3/5; 40/50] END C=142.7164812053633, coef0=7.598969988822755, gamma=2.800730256403485, kernel=sigmoid;, score=0.225 total time=11.1min\n",
      "[CV 4/5; 40/50] START C=142.7164812053633, coef0=7.598969988822755, gamma=2.800730256403485, kernel=sigmoid\n",
      "[CV 4/5; 40/50] END C=142.7164812053633, coef0=7.598969988822755, gamma=2.800730256403485, kernel=sigmoid;, score=0.172 total time=11.6min\n",
      "[CV 2/5; 41/50] START C=893.0842943552984, kernel=linear........................\n",
      "[CV 2/5; 41/50] END C=893.0842943552984, kernel=linear;, score=0.854 total time=341.5min\n",
      "[CV 4/5; 46/50] START C=60.196169866349805, kernel=linear.......................\n",
      "[CV 4/5; 46/50] END C=60.196169866349805, kernel=linear;, score=0.862 total time=26.3min\n",
      "[CV 5/5; 47/50] START C=523.612227931399, coef0=6.753861266487715, gamma=0.8438767788037874, kernel=sigmoid\n",
      "[CV 5/5; 47/50] END C=523.612227931399, coef0=6.753861266487715, gamma=0.8438767788037874, kernel=sigmoid;, score=0.166 total time=14.9min\n",
      "[CV 1/5; 50/50] START C=758.2522732181391, coef0=8.790915838779087, gamma=2.5625350397248936, kernel=sigmoid\n",
      "[CV 1/5; 50/50] END C=758.2522732181391, coef0=8.790915838779087, gamma=2.5625350397248936, kernel=sigmoid;, score=0.186 total time=13.6min\n",
      "[CV 2/5; 50/50] START C=758.2522732181391, coef0=8.790915838779087, gamma=2.5625350397248936, kernel=sigmoid\n",
      "[CV 2/5; 50/50] END C=758.2522732181391, coef0=8.790915838779087, gamma=2.5625350397248936, kernel=sigmoid;, score=0.200 total time=13.2min\n",
      "[CV 3/5; 50/50] START C=758.2522732181391, coef0=8.790915838779087, gamma=2.5625350397248936, kernel=sigmoid\n",
      "[CV 3/5; 50/50] END C=758.2522732181391, coef0=8.790915838779087, gamma=2.5625350397248936, kernel=sigmoid;, score=0.217 total time=13.5min\n",
      "[CV 4/5; 50/50] START C=758.2522732181391, coef0=8.790915838779087, gamma=2.5625350397248936, kernel=sigmoid\n",
      "[CV 4/5; 50/50] END C=758.2522732181391, coef0=8.790915838779087, gamma=2.5625350397248936, kernel=sigmoid;, score=0.179 total time=10.5min\n",
      "[CV 2/5; 2/50] START C=611.8438629026457, kernel=linear.........................\n",
      "[CV 2/5; 2/50] END C=611.8438629026457, kernel=linear;, score=0.854 total time=229.3min\n",
      "[CV 2/5; 7/50] START C=296.179932733648, coef0=6.287979088794833, gamma=1.739613430568635, kernel=sigmoid\n",
      "[CV 2/5; 7/50] END C=296.179932733648, coef0=6.287979088794833, gamma=1.739613430568635, kernel=sigmoid;, score=0.196 total time=11.3min\n",
      "[CV 2/5; 8/50] START C=731.9711002604598, coef0=0.1459075109635204, gamma=0.28018910090300886, kernel=sigmoid\n",
      "[CV 2/5; 8/50] END C=731.9711002604598, coef0=0.1459075109635204, gamma=0.28018910090300886, kernel=sigmoid;, score=0.285 total time=11.8min\n",
      "[CV 1/5; 9/50] START C=327.66394768873414, coef0=1.4417430065342045, gamma=0.49693858360380283, kernel=sigmoid\n",
      "[CV 1/5; 9/50] END C=327.66394768873414, coef0=1.4417430065342045, gamma=0.49693858360380283, kernel=sigmoid;, score=0.223 total time=13.6min\n",
      "[CV 2/5; 10/50] START C=561.4371205346787, coef0=0.9055869553755707, degree=3, gamma=1.4323051600640015, kernel=poly\n",
      "[CV 2/5; 10/50] END C=561.4371205346787, coef0=0.9055869553755707, degree=3, gamma=1.4323051600640015, kernel=poly;, score=0.892 total time= 3.1min\n",
      "[CV 1/5; 11/50] START C=699.9436141265575, coef0=7.795245855555297, gamma=0.06889927731724445, kernel=sigmoid\n",
      "[CV 1/5; 11/50] END C=699.9436141265575, coef0=7.795245855555297, gamma=0.06889927731724445, kernel=sigmoid;, score=0.202 total time=19.2min\n",
      "[CV 2/5; 12/50] START C=368.2621924165053, coef0=6.909411973711297, gamma=2.4486030391766542, kernel=sigmoid\n",
      "[CV 2/5; 12/50] END C=368.2621924165053, coef0=6.909411973711297, gamma=2.4486030391766542, kernel=sigmoid;, score=0.209 total time=12.8min\n",
      "[CV 5/5; 14/50] START C=696.7649294064507, coef0=5.7542370741641795, degree=3, gamma=0.19362069643761504, kernel=poly\n",
      "[CV 5/5; 14/50] END C=696.7649294064507, coef0=5.7542370741641795, degree=3, gamma=0.19362069643761504, kernel=poly;, score=0.893 total time= 2.8min\n",
      "[CV 1/5; 16/50] START C=608.8025833938575, gamma=0.58652486821706, kernel=rbf...\n",
      "[CV 1/5; 16/50] END C=608.8025833938575, gamma=0.58652486821706, kernel=rbf;, score=0.487 total time=72.6min\n",
      "[CV 4/5; 16/50] START C=608.8025833938575, gamma=0.58652486821706, kernel=rbf...\n",
      "[CV 4/5; 16/50] END C=608.8025833938575, gamma=0.58652486821706, kernel=rbf;, score=0.497 total time=69.0min\n",
      "[CV 2/5; 19/50] START C=812.0023911804107, kernel=linear........................\n",
      "[CV 2/5; 19/50] END C=812.0023911804107, kernel=linear;, score=0.853 total time=246.7min\n",
      "[CV 5/5; 21/50] START C=361.1484184638091, kernel=linear........................\n",
      "[CV 5/5; 21/50] END C=361.1484184638091, kernel=linear;, score=0.859 total time=119.6min\n",
      "[CV 2/5; 23/50] START C=796.2427208560042, kernel=linear........................\n",
      "[CV 2/5; 23/50] END C=796.2427208560042, kernel=linear;, score=0.853 total time=253.0min\n",
      "[CV 4/5; 24/50] START C=835.9141644944826, kernel=linear........................\n",
      "[CV 4/5; 24/50] END C=835.9141644944826, kernel=linear;, score=0.862 total time=322.9min\n",
      "[CV 2/5; 29/50] START C=352.82313729544927, kernel=linear.......................\n",
      "[CV 2/5; 29/50] END C=352.82313729544927, kernel=linear;, score=0.854 total time=133.7min\n",
      "[CV 5/5; 29/50] START C=352.82313729544927, kernel=linear.......................\n",
      "[CV 5/5; 29/50] END C=352.82313729544927, kernel=linear;, score=0.859 total time=122.0min\n",
      "[CV 3/5; 31/50] START C=372.8743101202181, kernel=linear........................\n",
      "[CV 3/5; 31/50] END C=372.8743101202181, kernel=linear;, score=0.864 total time=120.3min\n",
      "[CV 1/5; 35/50] START C=411.4836157793766, coef0=9.851467976958045, gamma=2.4043045912332106, kernel=sigmoid\n",
      "[CV 1/5; 35/50] END C=411.4836157793766, coef0=9.851467976958045, gamma=2.4043045912332106, kernel=sigmoid;, score=0.188 total time=10.0min\n",
      "[CV 2/5; 35/50] START C=411.4836157793766, coef0=9.851467976958045, gamma=2.4043045912332106, kernel=sigmoid\n",
      "[CV 2/5; 35/50] END C=411.4836157793766, coef0=9.851467976958045, gamma=2.4043045912332106, kernel=sigmoid;, score=0.186 total time= 9.3min\n",
      "[CV 3/5; 35/50] START C=411.4836157793766, coef0=9.851467976958045, gamma=2.4043045912332106, kernel=sigmoid\n",
      "[CV 3/5; 35/50] END C=411.4836157793766, coef0=9.851467976958045, gamma=2.4043045912332106, kernel=sigmoid;, score=0.194 total time=10.2min\n",
      "[CV 5/5; 35/50] START C=411.4836157793766, coef0=9.851467976958045, gamma=2.4043045912332106, kernel=sigmoid\n",
      "[CV 5/5; 35/50] END C=411.4836157793766, coef0=9.851467976958045, gamma=2.4043045912332106, kernel=sigmoid;, score=0.171 total time=11.3min\n",
      "[CV 3/5; 36/50] START C=748.1255454069209, gamma=2.9631888578091305, kernel=rbf.\n",
      "[CV 3/5; 36/50] END C=748.1255454069209, gamma=2.9631888578091305, kernel=rbf;, score=0.149 total time=39.1min\n",
      "[CV 1/5; 37/50] START C=703.0420771179782, kernel=linear........................\n",
      "[CV 1/5; 37/50] END C=703.0420771179782, kernel=linear;, score=0.861 total time=252.1min\n",
      "[CV 4/5; 41/50] START C=893.0842943552984, kernel=linear........................\n",
      "[CV 4/5; 41/50] END C=893.0842943552984, kernel=linear;, score=0.862 total time=327.9min\n",
      "[CV 5/5; 50/50] START C=758.2522732181391, coef0=8.790915838779087, gamma=2.5625350397248936, kernel=sigmoid\n",
      "[CV 5/5; 50/50] END C=758.2522732181391, coef0=8.790915838779087, gamma=2.5625350397248936, kernel=sigmoid;, score=0.172 total time= 7.1min\n",
      "---------------------------------------\n",
      "Best Parameters: {'C': 792.3413238490966, 'coef0': 4.461801247588382, 'degree': 3, 'gamma': 2.4015292622517093, 'kernel': 'poly'}\n",
      "---------------------------------------\n",
      "Best Accuracy in Cross Validation: 0.8954166666666667\n",
      "Test Accuracy: 0.8913\n"
     ]
    }
   ],
   "source": [
    "# SVM Classifier\n",
    "\n",
    "#defining parameter grid\n",
    "parameters = [{\n",
    "    'kernel': ['linear'],  # Setting the kernel to Linear\n",
    "    'C':uniform(0.1,1000)  # Regularization parameter.\n",
    "    },\n",
    "    {'kernel' : ['rbf'], # Setting the kernel to Radial-Basis-Function\n",
    "     'C':uniform(0.1,1000), # Regularization parameter.\n",
    "     'gamma': uniform(0.0001,3) # Kernel coefficient: influence of a single training sample\n",
    "    },\n",
    "    {\n",
    "    'kernel': ['sigmoid'], # Setting the kernel to Sigmoid\n",
    "    'C':uniform(0.1,1000), # Regularization parameter.\n",
    "    'coef0':uniform(0.0001,10), # Independent term in kernel function\n",
    "    'gamma': uniform(0.0001,3) # Kernel coefficient: influence of a single training sample\n",
    "    },\n",
    "    {\n",
    "    'kernel': ['poly'], # Setting the kernel to Polynomial\n",
    "    'C':uniform(0.1,1000), # Regularization parameter.\n",
    "    'degree':randint(2,7), # Degree of the polynomial kernel function\n",
    "    'coef0':uniform(0.0001,10), # Independent term in kernel function\n",
    "    'gamma': uniform(0.0001,3) # Kernel coefficient: influence of a single training sample\n",
    "    }\n",
    "    ] \n",
    "\n",
    "svc = SVC()\n",
    "\n",
    "random_search = RandomizedSearchCV(\n",
    "    estimator = svc, \n",
    "    param_distributions = parameters,\n",
    "    n_iter=50,\n",
    "    cv = 5, \n",
    "    random_state=5,\n",
    "    scoring='accuracy', \n",
    "    verbose=10,\n",
    "    n_jobs = -1)\n",
    "\n",
    "random_search.fit(X_train_pca, y_train)\n",
    "\n",
    "\n",
    "best_params_svc = random_search.best_params_\n",
    "best_accuracy_svc = random_search.best_score_\n",
    "best_svc = random_search.best_estimator_\n",
    "\n",
    "# Evaluate the model on the test set\n",
    "y_pred = best_svc.predict(X_test_pca)\n",
    "accuracy = accuracy_score(y_test, y_pred)\n",
    "\n",
    "\n",
    "print(\"---------------------------------------\")\n",
    "print(\"Best Parameters:\", best_params_svc)\n",
    "print(\"---------------------------------------\")\n",
    "print(\"Best Accuracy in Cross Validation:\", best_accuracy_svc)\n",
    "print(\"Test Accuracy:\", accuracy)\n"
   ]
  },
  {
   "cell_type": "code",
   "execution_count": 38,
   "metadata": {
    "tags": []
   },
   "outputs": [
    {
     "name": "stdout",
     "output_type": "stream",
     "text": [
      "dict_keys(['mean_fit_time', 'std_fit_time', 'mean_score_time', 'std_score_time', 'param_C', 'param_coef0', 'param_degree', 'param_gamma', 'param_kernel', 'params', 'split0_test_score', 'split1_test_score', 'split2_test_score', 'split3_test_score', 'split4_test_score', 'mean_test_score', 'std_test_score', 'rank_test_score'])\n"
     ]
    }
   ],
   "source": [
    "cv_results = random_search.cv_results_\n",
    "print(cv_results.keys())\n",
    "results_svc = {}\n",
    "for score, params in zip(cv_results[\"mean_test_score\"],cv_results[\"params\"]):\n",
    "    results_svc.update({str(params) : score})\n"
   ]
  },
  {
   "cell_type": "code",
   "execution_count": 39,
   "metadata": {
    "tags": []
   },
   "outputs": [],
   "source": [
    "import pandas as pd\n",
    "df_svc = pd.DataFrame.from_dict(results_svc, orient = 'index')"
   ]
  },
  {
   "cell_type": "code",
   "execution_count": 40,
   "metadata": {
    "tags": []
   },
   "outputs": [],
   "source": [
    "df_svc.reset_index(inplace=True)"
   ]
  },
  {
   "cell_type": "code",
   "execution_count": 41,
   "metadata": {
    "tags": []
   },
   "outputs": [],
   "source": [
    "df_svc.columns = ['Parameters','Mean_Score']"
   ]
  },
  {
   "cell_type": "code",
   "execution_count": 56,
   "metadata": {
    "tags": []
   },
   "outputs": [],
   "source": [
    "df_svc.sort_values('Mean_Score', ascending = False, inplace=True)"
   ]
  },
  {
   "cell_type": "code",
   "execution_count": 61,
   "metadata": {
    "tags": []
   },
   "outputs": [
    {
     "data": {
      "text/html": [
       "<div>\n",
       "<style scoped>\n",
       "    .dataframe tbody tr th:only-of-type {\n",
       "        vertical-align: middle;\n",
       "    }\n",
       "\n",
       "    .dataframe tbody tr th {\n",
       "        vertical-align: top;\n",
       "    }\n",
       "\n",
       "    .dataframe thead th {\n",
       "        text-align: right;\n",
       "    }\n",
       "</style>\n",
       "<table border=\"1\" class=\"dataframe\">\n",
       "  <thead>\n",
       "    <tr style=\"text-align: right;\">\n",
       "      <th></th>\n",
       "      <th>Parameters</th>\n",
       "      <th>Mean_Score</th>\n",
       "    </tr>\n",
       "  </thead>\n",
       "  <tbody>\n",
       "    <tr>\n",
       "      <th>32</th>\n",
       "      <td>{'C': 792.3413238490966, 'coef0': 4.4618012475...</td>\n",
       "      <td>0.895417</td>\n",
       "    </tr>\n",
       "    <tr>\n",
       "      <th>47</th>\n",
       "      <td>{'C': 242.20767225593488, 'coef0': 0.850804617...</td>\n",
       "      <td>0.895317</td>\n",
       "    </tr>\n",
       "    <tr>\n",
       "      <th>13</th>\n",
       "      <td>{'C': 696.7649294064507, 'coef0': 5.7542370741...</td>\n",
       "      <td>0.895000</td>\n",
       "    </tr>\n",
       "    <tr>\n",
       "      <th>12</th>\n",
       "      <td>{'C': 985.7244028041889, 'coef0': 2.5910759641...</td>\n",
       "      <td>0.894767</td>\n",
       "    </tr>\n",
       "    <tr>\n",
       "      <th>9</th>\n",
       "      <td>{'C': 561.4371205346787, 'coef0': 0.9055869553...</td>\n",
       "      <td>0.894617</td>\n",
       "    </tr>\n",
       "  </tbody>\n",
       "</table>\n",
       "</div>"
      ],
      "text/plain": [
       "                                           Parameters  Mean_Score\n",
       "32  {'C': 792.3413238490966, 'coef0': 4.4618012475...    0.895417\n",
       "47  {'C': 242.20767225593488, 'coef0': 0.850804617...    0.895317\n",
       "13  {'C': 696.7649294064507, 'coef0': 5.7542370741...    0.895000\n",
       "12  {'C': 985.7244028041889, 'coef0': 2.5910759641...    0.894767\n",
       "9   {'C': 561.4371205346787, 'coef0': 0.9055869553...    0.894617"
      ]
     },
     "execution_count": 61,
     "metadata": {},
     "output_type": "execute_result"
    }
   ],
   "source": [
    "df_svc.head()"
   ]
  },
  {
   "cell_type": "code",
   "execution_count": 57,
   "metadata": {
    "tags": []
   },
   "outputs": [],
   "source": [
    "df_svc.to_csv(\"Best_params_svc.csv\",index=False)"
   ]
  },
  {
   "cell_type": "code",
   "execution_count": 44,
   "metadata": {
    "tags": []
   },
   "outputs": [],
   "source": [
    "import pickle\n",
    "\n",
    "# Save the model to a file\n",
    "with open('svc_model.pkl', 'wb') as file:\n",
    "    pickle.dump(best_svc, file)"
   ]
  },
  {
   "cell_type": "code",
   "execution_count": 62,
   "metadata": {
    "tags": []
   },
   "outputs": [
    {
     "name": "stdout",
     "output_type": "stream",
     "text": [
      "0.8913\n"
     ]
    }
   ],
   "source": [
    "from sklearn.metrics import accuracy_score\n",
    "y_pred = best_svc.predict(X_test_pca)\n",
    "accuracy = accuracy_score(y_test, y_pred)\n",
    "print(accuracy)"
   ]
  },
  {
   "cell_type": "code",
   "execution_count": 64,
   "metadata": {
    "tags": []
   },
   "outputs": [],
   "source": [
    "d1 = {'Logistic Regression': [{'C':0.1, 'max_iter': 100}, \"84.22%\"],\n",
    "      'K Nearest Neighbors': [{'metric' : 'manhattan', 'n_neighbors' : 4, 'weights' : 'distance'},\"86.92%\"],\n",
    "      'Support Vector Classifier': [{'C' : 792.3413238490966, 'coef0' : 4.461801247588382, 'degree' : 3, \n",
    "                                     'gamma' : 2.4015292622517093, 'kernel' : 'poly'},\"89.13%\"],\n",
    "      'XGBoost Classifier': [{'subsample' : 0.7, 'max_depth' : 5, 'learning_rate' : 0.2, 'gamma' : 0.5},\"86.74%\"],\n",
    "      'Decision Tree Classifier': [{'criterion' : 'entropy', 'min_samples_leaf' : 2, 'min_samples_split' : 5},\"77.92%\"],\n",
    "      'Random Forest Classifier': [{'criterion' : 'gini', 'min_samples_leaf' : 1, 'min_samples_split' : 5}, \"85.73%\"]\n",
    "     \n",
    "     }"
   ]
  },
  {
   "cell_type": "code",
   "execution_count": 72,
   "metadata": {
    "tags": []
   },
   "outputs": [],
   "source": [
    "df1 = pd.DataFrame.from_dict(d1).T\n",
    "df1.reset_index(inplace=True)"
   ]
  },
  {
   "cell_type": "code",
   "execution_count": 73,
   "metadata": {
    "tags": []
   },
   "outputs": [],
   "source": [
    "df1.columns = ['ML Model','Best Parameters', 'Test Accuracy']"
   ]
  },
  {
   "cell_type": "code",
   "execution_count": 74,
   "metadata": {
    "tags": []
   },
   "outputs": [
    {
     "data": {
      "text/html": [
       "<div>\n",
       "<style scoped>\n",
       "    .dataframe tbody tr th:only-of-type {\n",
       "        vertical-align: middle;\n",
       "    }\n",
       "\n",
       "    .dataframe tbody tr th {\n",
       "        vertical-align: top;\n",
       "    }\n",
       "\n",
       "    .dataframe thead th {\n",
       "        text-align: right;\n",
       "    }\n",
       "</style>\n",
       "<table border=\"1\" class=\"dataframe\">\n",
       "  <thead>\n",
       "    <tr style=\"text-align: right;\">\n",
       "      <th></th>\n",
       "      <th>ML Model</th>\n",
       "      <th>Best Parameters</th>\n",
       "      <th>Test Accuracy</th>\n",
       "    </tr>\n",
       "  </thead>\n",
       "  <tbody>\n",
       "    <tr>\n",
       "      <th>0</th>\n",
       "      <td>Logistic Regression</td>\n",
       "      <td>{'C': 0.1, 'max_iter': 100}</td>\n",
       "      <td>84.22%</td>\n",
       "    </tr>\n",
       "    <tr>\n",
       "      <th>1</th>\n",
       "      <td>K Nearest Neighbors</td>\n",
       "      <td>{'metric': 'manhattan', 'n_neighbors': 4, 'wei...</td>\n",
       "      <td>86.92%</td>\n",
       "    </tr>\n",
       "    <tr>\n",
       "      <th>2</th>\n",
       "      <td>Support Vector Classifier</td>\n",
       "      <td>{'C': 792.3413238490966, 'coef0': 4.4618012475...</td>\n",
       "      <td>89.13%</td>\n",
       "    </tr>\n",
       "    <tr>\n",
       "      <th>3</th>\n",
       "      <td>XGBoost Classifier</td>\n",
       "      <td>{'subsample': 0.7, 'max_depth': 5, 'learning_r...</td>\n",
       "      <td>86.74%</td>\n",
       "    </tr>\n",
       "    <tr>\n",
       "      <th>4</th>\n",
       "      <td>Decision Tree Classifier</td>\n",
       "      <td>{'criterion': 'entropy', 'min_samples_leaf': 2...</td>\n",
       "      <td>77.92%</td>\n",
       "    </tr>\n",
       "    <tr>\n",
       "      <th>5</th>\n",
       "      <td>Random Forest Classifier</td>\n",
       "      <td>{'criterion': 'gini', 'min_samples_leaf': 1, '...</td>\n",
       "      <td>85.73%</td>\n",
       "    </tr>\n",
       "  </tbody>\n",
       "</table>\n",
       "</div>"
      ],
      "text/plain": [
       "                    ML Model  \\\n",
       "0        Logistic Regression   \n",
       "1        K Nearest Neighbors   \n",
       "2  Support Vector Classifier   \n",
       "3         XGBoost Classifier   \n",
       "4   Decision Tree Classifier   \n",
       "5   Random Forest Classifier   \n",
       "\n",
       "                                     Best Parameters Test Accuracy  \n",
       "0                        {'C': 0.1, 'max_iter': 100}        84.22%  \n",
       "1  {'metric': 'manhattan', 'n_neighbors': 4, 'wei...        86.92%  \n",
       "2  {'C': 792.3413238490966, 'coef0': 4.4618012475...        89.13%  \n",
       "3  {'subsample': 0.7, 'max_depth': 5, 'learning_r...        86.74%  \n",
       "4  {'criterion': 'entropy', 'min_samples_leaf': 2...        77.92%  \n",
       "5  {'criterion': 'gini', 'min_samples_leaf': 1, '...        85.73%  "
      ]
     },
     "execution_count": 74,
     "metadata": {},
     "output_type": "execute_result"
    }
   ],
   "source": [
    "df1"
   ]
  },
  {
   "cell_type": "code",
   "execution_count": 76,
   "metadata": {
    "tags": []
   },
   "outputs": [],
   "source": [
    "df1.to_latex(\"hyperparameters.tex\", index = False, column_format='rcl')"
   ]
  },
  {
   "cell_type": "code",
   "execution_count": null,
   "metadata": {},
   "outputs": [],
   "source": []
  }
 ],
 "metadata": {
  "kernelspec": {
   "display_name": "Python 3 (ipykernel)",
   "language": "python",
   "name": "python3"
  },
  "language_info": {
   "codemirror_mode": {
    "name": "ipython",
    "version": 3
   },
   "file_extension": ".py",
   "mimetype": "text/x-python",
   "name": "python",
   "nbconvert_exporter": "python",
   "pygments_lexer": "ipython3",
   "version": "3.11.4"
  }
 },
 "nbformat": 4,
 "nbformat_minor": 4
}
